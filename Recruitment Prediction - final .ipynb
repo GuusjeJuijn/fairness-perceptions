{
 "cells": [
  {
   "cell_type": "markdown",
   "metadata": {},
   "source": [
    "### Import statements "
   ]
  },
  {
   "cell_type": "code",
   "execution_count": 1,
   "metadata": {},
   "outputs": [],
   "source": [
    "import pandas as pd\n",
    "import numpy as np\n",
    "from matplotlib import pyplot as plt\n",
    "import seaborn as sn\n",
    "import pandas as pd\n",
    "import warnings\n",
    "from sklearn.model_selection import train_test_split\n",
    "from sklearn.preprocessing import OneHotEncoder\n",
    "from sklearn.metrics import confusion_matrix\n",
    "from sklearn.metrics import accuracy_score\n",
    "from sklearn import model_selection\n",
    "from sklearn.linear_model import LogisticRegression\n",
    "from sklearn.tree import DecisionTreeClassifier\n",
    "from sklearn.neighbors import KNeighborsClassifier\n",
    "from sklearn.discriminant_analysis import LinearDiscriminantAnalysis\n",
    "from sklearn.naive_bayes import GaussianNB\n",
    "from sklearn.svm import SVC\n",
    "from sklearn.neural_network import MLPClassifier \n",
    "import sklearn.metrics as skmetrics\n",
    "from sklearn.preprocessing import MinMaxScaler\n",
    "from sklearn.linear_model import LogisticRegression\n",
    "from sklearn.metrics import accuracy_score\n",
    "from sklearn.ensemble import RandomForestClassifier\n",
    "from sklearn.compose import ColumnTransformer\n",
    "from sklearn.pipeline import Pipeline\n",
    "from sklearn.inspection import permutation_importance\n",
    "from matplotlib import pyplot\n",
    "from fairlearn.metrics import MetricFrame\n",
    "from fairlearn.metrics import selection_rate\n",
    "from fairlearn.metrics import false_positive_rate\n",
    "from fairlearn.metrics import false_negative_rate\n",
    "from fairlearn.metrics import mean_prediction\n",
    "from fairlearn.metrics import demographic_parity_difference\n",
    "from fairlearn.metrics import demographic_parity_ratio\n",
    "from fairlearn.metrics import count\n",
    "from fairlearn.postprocessing import ThresholdOptimizer\n",
    "import shap\n",
    "\n",
    "warnings.filterwarnings('ignore')"
   ]
  },
  {
   "cell_type": "markdown",
   "metadata": {},
   "source": [
    "### Reading in data and exploratory data analysis"
   ]
  },
  {
   "cell_type": "code",
   "execution_count": 2,
   "metadata": {},
   "outputs": [
    {
     "data": {
      "text/html": [
       "<div>\n",
       "<style scoped>\n",
       "    .dataframe tbody tr th:only-of-type {\n",
       "        vertical-align: middle;\n",
       "    }\n",
       "\n",
       "    .dataframe tbody tr th {\n",
       "        vertical-align: top;\n",
       "    }\n",
       "\n",
       "    .dataframe thead th {\n",
       "        text-align: right;\n",
       "    }\n",
       "</style>\n",
       "<table border=\"1\" class=\"dataframe\">\n",
       "  <thead>\n",
       "    <tr style=\"text-align: right;\">\n",
       "      <th></th>\n",
       "      <th>id</th>\n",
       "      <th>gender</th>\n",
       "      <th>age</th>\n",
       "      <th>nationality</th>\n",
       "      <th>sport</th>\n",
       "      <th>ind-university_grade</th>\n",
       "      <th>ind-debateclub</th>\n",
       "      <th>ind-programming_exp</th>\n",
       "      <th>ind-international_exp</th>\n",
       "      <th>ind-entrepeneur_exp</th>\n",
       "      <th>ind-languages</th>\n",
       "      <th>ind-exact_study</th>\n",
       "      <th>ind-degree</th>\n",
       "      <th>company</th>\n",
       "      <th>decision</th>\n",
       "    </tr>\n",
       "  </thead>\n",
       "  <tbody>\n",
       "    <tr>\n",
       "      <th>0</th>\n",
       "      <td>x3312d</td>\n",
       "      <td>female</td>\n",
       "      <td>21</td>\n",
       "      <td>Dutch</td>\n",
       "      <td>Swimming</td>\n",
       "      <td>58</td>\n",
       "      <td>False</td>\n",
       "      <td>False</td>\n",
       "      <td>False</td>\n",
       "      <td>False</td>\n",
       "      <td>0</td>\n",
       "      <td>True</td>\n",
       "      <td>bachelor</td>\n",
       "      <td>B</td>\n",
       "      <td>False</td>\n",
       "    </tr>\n",
       "    <tr>\n",
       "      <th>1</th>\n",
       "      <td>x8441a</td>\n",
       "      <td>female</td>\n",
       "      <td>27</td>\n",
       "      <td>Dutch</td>\n",
       "      <td>Chess</td>\n",
       "      <td>67</td>\n",
       "      <td>False</td>\n",
       "      <td>False</td>\n",
       "      <td>True</td>\n",
       "      <td>False</td>\n",
       "      <td>0</td>\n",
       "      <td>True</td>\n",
       "      <td>master</td>\n",
       "      <td>B</td>\n",
       "      <td>False</td>\n",
       "    </tr>\n",
       "    <tr>\n",
       "      <th>2</th>\n",
       "      <td>x8679b</td>\n",
       "      <td>female</td>\n",
       "      <td>25</td>\n",
       "      <td>Dutch</td>\n",
       "      <td>Rugby</td>\n",
       "      <td>56</td>\n",
       "      <td>True</td>\n",
       "      <td>False</td>\n",
       "      <td>False</td>\n",
       "      <td>False</td>\n",
       "      <td>2</td>\n",
       "      <td>False</td>\n",
       "      <td>bachelor</td>\n",
       "      <td>B</td>\n",
       "      <td>True</td>\n",
       "    </tr>\n",
       "    <tr>\n",
       "      <th>3</th>\n",
       "      <td>x3415f</td>\n",
       "      <td>female</td>\n",
       "      <td>28</td>\n",
       "      <td>Dutch</td>\n",
       "      <td>Chess</td>\n",
       "      <td>64</td>\n",
       "      <td>False</td>\n",
       "      <td>False</td>\n",
       "      <td>True</td>\n",
       "      <td>False</td>\n",
       "      <td>0</td>\n",
       "      <td>True</td>\n",
       "      <td>master</td>\n",
       "      <td>B</td>\n",
       "      <td>False</td>\n",
       "    </tr>\n",
       "    <tr>\n",
       "      <th>4</th>\n",
       "      <td>x2611c</td>\n",
       "      <td>male</td>\n",
       "      <td>30</td>\n",
       "      <td>Dutch</td>\n",
       "      <td>Rugby</td>\n",
       "      <td>63</td>\n",
       "      <td>True</td>\n",
       "      <td>False</td>\n",
       "      <td>False</td>\n",
       "      <td>True</td>\n",
       "      <td>3</td>\n",
       "      <td>False</td>\n",
       "      <td>master</td>\n",
       "      <td>B</td>\n",
       "      <td>True</td>\n",
       "    </tr>\n",
       "  </tbody>\n",
       "</table>\n",
       "</div>"
      ],
      "text/plain": [
       "       id  gender  age nationality     sport  ind-university_grade  \\\n",
       "0  x3312d  female   21       Dutch  Swimming                    58   \n",
       "1  x8441a  female   27       Dutch     Chess                    67   \n",
       "2  x8679b  female   25       Dutch     Rugby                    56   \n",
       "3  x3415f  female   28       Dutch     Chess                    64   \n",
       "4  x2611c    male   30       Dutch     Rugby                    63   \n",
       "\n",
       "   ind-debateclub  ind-programming_exp  ind-international_exp  \\\n",
       "0           False                False                  False   \n",
       "1           False                False                   True   \n",
       "2            True                False                  False   \n",
       "3           False                False                   True   \n",
       "4            True                False                  False   \n",
       "\n",
       "   ind-entrepeneur_exp  ind-languages  ind-exact_study ind-degree company  \\\n",
       "0                False              0             True   bachelor       B   \n",
       "1                False              0             True     master       B   \n",
       "2                False              2            False   bachelor       B   \n",
       "3                False              0             True     master       B   \n",
       "4                 True              3            False     master       B   \n",
       "\n",
       "   decision  \n",
       "0     False  \n",
       "1     False  \n",
       "2      True  \n",
       "3     False  \n",
       "4      True  "
      ]
     },
     "execution_count": 2,
     "metadata": {},
     "output_type": "execute_result"
    }
   ],
   "source": [
    "recruitmentdata =  pd.read_csv('/Users/guusjejuijn/Desktop/Scriptie/Programmeren/Scriptie/recruitmentdataset-2022-1.3.csv', \n",
    "                               delimiter = ',', skiprows = 1000, nrows=1000) #only include data from company B\n",
    "recruitmentdata.shape\n",
    "\n",
    "# Assigning column names \n",
    "recruitmentdata.columns = [\"id\", \"gender\", \"age\", \"nationality\", \"sport\",\"ind-university_grade\", \"ind-debateclub\",\n",
    "                          \"ind-programming_exp\", \"ind-international_exp\", \"ind-entrepeneur_exp\", \"ind-languages\", \n",
    "                          \"ind-exact_study\", \"ind-degree\", \"company\", \"decision\"]\n",
    "\n",
    "recruitmentdata.head(5)"
   ]
  },
  {
   "cell_type": "code",
   "execution_count": 3,
   "metadata": {},
   "outputs": [
    {
     "data": {
      "text/plain": [
       "B    1000\n",
       "Name: company, dtype: int64"
      ]
     },
     "execution_count": 3,
     "metadata": {},
     "output_type": "execute_result"
    }
   ],
   "source": [
    "recruitmentdata['company'].value_counts() # Check if data indeed only includes company B "
   ]
  },
  {
   "cell_type": "code",
   "execution_count": 4,
   "metadata": {},
   "outputs": [
    {
     "data": {
      "text/html": [
       "<div>\n",
       "<style scoped>\n",
       "    .dataframe tbody tr th:only-of-type {\n",
       "        vertical-align: middle;\n",
       "    }\n",
       "\n",
       "    .dataframe tbody tr th {\n",
       "        vertical-align: top;\n",
       "    }\n",
       "\n",
       "    .dataframe thead th {\n",
       "        text-align: right;\n",
       "    }\n",
       "</style>\n",
       "<table border=\"1\" class=\"dataframe\">\n",
       "  <thead>\n",
       "    <tr style=\"text-align: right;\">\n",
       "      <th></th>\n",
       "      <th>gender</th>\n",
       "      <th>age</th>\n",
       "      <th>ind-university_grade</th>\n",
       "      <th>ind-debateclub</th>\n",
       "      <th>ind-programming_exp</th>\n",
       "      <th>ind-international_exp</th>\n",
       "      <th>ind-entrepeneur_exp</th>\n",
       "      <th>ind-languages</th>\n",
       "      <th>ind-exact_study</th>\n",
       "      <th>ind-degree</th>\n",
       "      <th>decision</th>\n",
       "    </tr>\n",
       "  </thead>\n",
       "  <tbody>\n",
       "    <tr>\n",
       "      <th>0</th>\n",
       "      <td>female</td>\n",
       "      <td>21</td>\n",
       "      <td>58</td>\n",
       "      <td>False</td>\n",
       "      <td>False</td>\n",
       "      <td>False</td>\n",
       "      <td>False</td>\n",
       "      <td>0</td>\n",
       "      <td>True</td>\n",
       "      <td>bachelor</td>\n",
       "      <td>False</td>\n",
       "    </tr>\n",
       "    <tr>\n",
       "      <th>1</th>\n",
       "      <td>female</td>\n",
       "      <td>27</td>\n",
       "      <td>67</td>\n",
       "      <td>False</td>\n",
       "      <td>False</td>\n",
       "      <td>True</td>\n",
       "      <td>False</td>\n",
       "      <td>0</td>\n",
       "      <td>True</td>\n",
       "      <td>master</td>\n",
       "      <td>False</td>\n",
       "    </tr>\n",
       "    <tr>\n",
       "      <th>2</th>\n",
       "      <td>female</td>\n",
       "      <td>25</td>\n",
       "      <td>56</td>\n",
       "      <td>True</td>\n",
       "      <td>False</td>\n",
       "      <td>False</td>\n",
       "      <td>False</td>\n",
       "      <td>2</td>\n",
       "      <td>False</td>\n",
       "      <td>bachelor</td>\n",
       "      <td>True</td>\n",
       "    </tr>\n",
       "    <tr>\n",
       "      <th>3</th>\n",
       "      <td>female</td>\n",
       "      <td>28</td>\n",
       "      <td>64</td>\n",
       "      <td>False</td>\n",
       "      <td>False</td>\n",
       "      <td>True</td>\n",
       "      <td>False</td>\n",
       "      <td>0</td>\n",
       "      <td>True</td>\n",
       "      <td>master</td>\n",
       "      <td>False</td>\n",
       "    </tr>\n",
       "    <tr>\n",
       "      <th>4</th>\n",
       "      <td>male</td>\n",
       "      <td>30</td>\n",
       "      <td>63</td>\n",
       "      <td>True</td>\n",
       "      <td>False</td>\n",
       "      <td>False</td>\n",
       "      <td>True</td>\n",
       "      <td>3</td>\n",
       "      <td>False</td>\n",
       "      <td>master</td>\n",
       "      <td>True</td>\n",
       "    </tr>\n",
       "  </tbody>\n",
       "</table>\n",
       "</div>"
      ],
      "text/plain": [
       "   gender  age  ind-university_grade  ind-debateclub  ind-programming_exp  \\\n",
       "0  female   21                    58           False                False   \n",
       "1  female   27                    67           False                False   \n",
       "2  female   25                    56            True                False   \n",
       "3  female   28                    64           False                False   \n",
       "4    male   30                    63            True                False   \n",
       "\n",
       "   ind-international_exp  ind-entrepeneur_exp  ind-languages  ind-exact_study  \\\n",
       "0                  False                False              0             True   \n",
       "1                   True                False              0             True   \n",
       "2                  False                False              2            False   \n",
       "3                   True                False              0             True   \n",
       "4                  False                 True              3            False   \n",
       "\n",
       "  ind-degree  decision  \n",
       "0   bachelor     False  \n",
       "1     master     False  \n",
       "2   bachelor      True  \n",
       "3     master     False  \n",
       "4     master      True  "
      ]
     },
     "execution_count": 4,
     "metadata": {},
     "output_type": "execute_result"
    }
   ],
   "source": [
    "# Drop the columns that are not important for our analysis \n",
    "recruitmentdata.drop('id', axis=1, inplace=True) \n",
    "recruitmentdata.drop('sport', axis=1, inplace=True) \n",
    "recruitmentdata.drop('nationality', axis=1, inplace=True) \n",
    "recruitmentdata.drop('company', axis=1, inplace=True) \n",
    "recruitmentdata.head(5)"
   ]
  },
  {
   "cell_type": "code",
   "execution_count": 58,
   "metadata": {},
   "outputs": [
    {
     "name": "stdout",
     "output_type": "stream",
     "text": [
      "<class 'pandas.core.frame.DataFrame'>\n",
      "RangeIndex: 1000 entries, 0 to 999\n",
      "Data columns (total 11 columns):\n",
      " #   Column                 Non-Null Count  Dtype \n",
      "---  ------                 --------------  ----- \n",
      " 0   gender                 1000 non-null   object\n",
      " 1   age                    1000 non-null   int64 \n",
      " 2   ind-university_grade   1000 non-null   int64 \n",
      " 3   ind-debateclub         1000 non-null   bool  \n",
      " 4   ind-programming_exp    1000 non-null   bool  \n",
      " 5   ind-international_exp  1000 non-null   bool  \n",
      " 6   ind-entrepeneur_exp    1000 non-null   bool  \n",
      " 7   ind-languages          1000 non-null   int64 \n",
      " 8   ind-exact_study        1000 non-null   bool  \n",
      " 9   ind-degree             1000 non-null   object\n",
      " 10  decision               1000 non-null   bool  \n",
      "dtypes: bool(6), int64(3), object(2)\n",
      "memory usage: 45.0+ KB\n"
     ]
    }
   ],
   "source": [
    "recruitmentdata.info() # Check for missing values and data types "
   ]
  },
  {
   "cell_type": "code",
   "execution_count": 5,
   "metadata": {},
   "outputs": [
    {
     "name": "stdout",
     "output_type": "stream",
     "text": [
      "<class 'pandas.core.frame.DataFrame'>\n",
      "RangeIndex: 1000 entries, 0 to 999\n",
      "Data columns (total 11 columns):\n",
      " #   Column                 Non-Null Count  Dtype \n",
      "---  ------                 --------------  ----- \n",
      " 0   gender                 1000 non-null   object\n",
      " 1   age                    1000 non-null   int64 \n",
      " 2   ind-university_grade   1000 non-null   int64 \n",
      " 3   ind-debateclub         1000 non-null   object\n",
      " 4   ind-programming_exp    1000 non-null   object\n",
      " 5   ind-international_exp  1000 non-null   object\n",
      " 6   ind-entrepeneur_exp    1000 non-null   object\n",
      " 7   ind-languages          1000 non-null   int64 \n",
      " 8   ind-exact_study        1000 non-null   object\n",
      " 9   ind-degree             1000 non-null   object\n",
      " 10  decision               1000 non-null   object\n",
      "dtypes: int64(3), object(8)\n",
      "memory usage: 86.1+ KB\n"
     ]
    }
   ],
   "source": [
    "# Ttransform boolean column types, and ind-languages column, into objects \n",
    "recruitmentdata['ind-debateclub'] = recruitmentdata['ind-debateclub'].astype('O')\n",
    "recruitmentdata['ind-programming_exp'] = recruitmentdata['ind-programming_exp'].astype('O')\n",
    "recruitmentdata['ind-international_exp'] = recruitmentdata['ind-international_exp'].astype('O')\n",
    "recruitmentdata['ind-entrepeneur_exp'] = recruitmentdata['ind-entrepeneur_exp'].astype('O')\n",
    "recruitmentdata['ind-exact_study'] = recruitmentdata['ind-exact_study'].astype('O')\n",
    "recruitmentdata['decision'] = recruitmentdata['decision'].astype('O')\n",
    "\n",
    "recruitmentdata.info()"
   ]
  },
  {
   "cell_type": "code",
   "execution_count": 60,
   "metadata": {},
   "outputs": [
    {
     "data": {
      "text/html": [
       "<div>\n",
       "<style scoped>\n",
       "    .dataframe tbody tr th:only-of-type {\n",
       "        vertical-align: middle;\n",
       "    }\n",
       "\n",
       "    .dataframe tbody tr th {\n",
       "        vertical-align: top;\n",
       "    }\n",
       "\n",
       "    .dataframe thead th {\n",
       "        text-align: right;\n",
       "    }\n",
       "</style>\n",
       "<table border=\"1\" class=\"dataframe\">\n",
       "  <thead>\n",
       "    <tr style=\"text-align: right;\">\n",
       "      <th></th>\n",
       "      <th>age</th>\n",
       "      <th>ind-university_grade</th>\n",
       "      <th>ind-languages</th>\n",
       "    </tr>\n",
       "  </thead>\n",
       "  <tbody>\n",
       "    <tr>\n",
       "      <th>count</th>\n",
       "      <td>1000.00000</td>\n",
       "      <td>1000.000000</td>\n",
       "      <td>1000.000000</td>\n",
       "    </tr>\n",
       "    <tr>\n",
       "      <th>mean</th>\n",
       "      <td>26.30700</td>\n",
       "      <td>62.348000</td>\n",
       "      <td>1.375000</td>\n",
       "    </tr>\n",
       "    <tr>\n",
       "      <th>std</th>\n",
       "      <td>2.81081</td>\n",
       "      <td>6.015237</td>\n",
       "      <td>0.856217</td>\n",
       "    </tr>\n",
       "    <tr>\n",
       "      <th>min</th>\n",
       "      <td>21.00000</td>\n",
       "      <td>47.000000</td>\n",
       "      <td>0.000000</td>\n",
       "    </tr>\n",
       "    <tr>\n",
       "      <th>25%</th>\n",
       "      <td>24.00000</td>\n",
       "      <td>58.000000</td>\n",
       "      <td>1.000000</td>\n",
       "    </tr>\n",
       "    <tr>\n",
       "      <th>50%</th>\n",
       "      <td>26.00000</td>\n",
       "      <td>62.000000</td>\n",
       "      <td>1.000000</td>\n",
       "    </tr>\n",
       "    <tr>\n",
       "      <th>75%</th>\n",
       "      <td>28.00000</td>\n",
       "      <td>67.000000</td>\n",
       "      <td>2.000000</td>\n",
       "    </tr>\n",
       "    <tr>\n",
       "      <th>max</th>\n",
       "      <td>32.00000</td>\n",
       "      <td>78.000000</td>\n",
       "      <td>3.000000</td>\n",
       "    </tr>\n",
       "  </tbody>\n",
       "</table>\n",
       "</div>"
      ],
      "text/plain": [
       "              age  ind-university_grade  ind-languages\n",
       "count  1000.00000           1000.000000    1000.000000\n",
       "mean     26.30700             62.348000       1.375000\n",
       "std       2.81081              6.015237       0.856217\n",
       "min      21.00000             47.000000       0.000000\n",
       "25%      24.00000             58.000000       1.000000\n",
       "50%      26.00000             62.000000       1.000000\n",
       "75%      28.00000             67.000000       2.000000\n",
       "max      32.00000             78.000000       3.000000"
      ]
     },
     "execution_count": 60,
     "metadata": {},
     "output_type": "execute_result"
    }
   ],
   "source": [
    "recruitmentdata.describe() # Describe the numerical data"
   ]
  },
  {
   "cell_type": "code",
   "execution_count": 61,
   "metadata": {},
   "outputs": [
    {
     "data": {
      "text/html": [
       "<div>\n",
       "<style scoped>\n",
       "    .dataframe tbody tr th:only-of-type {\n",
       "        vertical-align: middle;\n",
       "    }\n",
       "\n",
       "    .dataframe tbody tr th {\n",
       "        vertical-align: top;\n",
       "    }\n",
       "\n",
       "    .dataframe thead th {\n",
       "        text-align: right;\n",
       "    }\n",
       "</style>\n",
       "<table border=\"1\" class=\"dataframe\">\n",
       "  <thead>\n",
       "    <tr style=\"text-align: right;\">\n",
       "      <th></th>\n",
       "      <th>gender</th>\n",
       "      <th>ind-debateclub</th>\n",
       "      <th>ind-programming_exp</th>\n",
       "      <th>ind-international_exp</th>\n",
       "      <th>ind-entrepeneur_exp</th>\n",
       "      <th>ind-exact_study</th>\n",
       "      <th>ind-degree</th>\n",
       "      <th>decision</th>\n",
       "    </tr>\n",
       "  </thead>\n",
       "  <tbody>\n",
       "    <tr>\n",
       "      <th>count</th>\n",
       "      <td>1000</td>\n",
       "      <td>1000</td>\n",
       "      <td>1000</td>\n",
       "      <td>1000</td>\n",
       "      <td>1000</td>\n",
       "      <td>1000</td>\n",
       "      <td>1000</td>\n",
       "      <td>1000</td>\n",
       "    </tr>\n",
       "    <tr>\n",
       "      <th>unique</th>\n",
       "      <td>3</td>\n",
       "      <td>2</td>\n",
       "      <td>2</td>\n",
       "      <td>2</td>\n",
       "      <td>2</td>\n",
       "      <td>2</td>\n",
       "      <td>3</td>\n",
       "      <td>2</td>\n",
       "    </tr>\n",
       "    <tr>\n",
       "      <th>top</th>\n",
       "      <td>male</td>\n",
       "      <td>False</td>\n",
       "      <td>False</td>\n",
       "      <td>False</td>\n",
       "      <td>False</td>\n",
       "      <td>False</td>\n",
       "      <td>bachelor</td>\n",
       "      <td>False</td>\n",
       "    </tr>\n",
       "    <tr>\n",
       "      <th>freq</th>\n",
       "      <td>530</td>\n",
       "      <td>754</td>\n",
       "      <td>685</td>\n",
       "      <td>767</td>\n",
       "      <td>755</td>\n",
       "      <td>539</td>\n",
       "      <td>495</td>\n",
       "      <td>691</td>\n",
       "    </tr>\n",
       "  </tbody>\n",
       "</table>\n",
       "</div>"
      ],
      "text/plain": [
       "       gender ind-debateclub ind-programming_exp ind-international_exp  \\\n",
       "count    1000           1000                1000                  1000   \n",
       "unique      3              2                   2                     2   \n",
       "top      male          False               False                 False   \n",
       "freq      530            754                 685                   767   \n",
       "\n",
       "       ind-entrepeneur_exp ind-exact_study ind-degree decision  \n",
       "count                 1000            1000       1000     1000  \n",
       "unique                   2               2          3        2  \n",
       "top                  False           False   bachelor    False  \n",
       "freq                   755             539        495      691  "
      ]
     },
     "execution_count": 61,
     "metadata": {},
     "output_type": "execute_result"
    }
   ],
   "source": [
    "recruitmentdata.describe(include='O') # Describe the categorical data"
   ]
  },
  {
   "cell_type": "code",
   "execution_count": 62,
   "metadata": {},
   "outputs": [
    {
     "name": "stdout",
     "output_type": "stream",
     "text": [
      "The percentage of negative recruitment decisions : 0.69\n",
      "The percentage of positive recruitment decisions: 0.31\n",
      "\n"
     ]
    },
    {
     "data": {
      "image/png": "[encoded data removed]",
      "text/plain": [
       "<Figure size 360x216 with 1 Axes>"
      ]
     },
     "metadata": {
      "needs_background": "light"
     },
     "output_type": "display_data"
    }
   ],
   "source": [
    "# Plot distribution of target variable (0 = false (not hired), 1 = true (hired))\n",
    "\n",
    "plt.figure(figsize=(5,3))\n",
    "sn.countplot(recruitmentdata.decision, palette=\"hls\");\n",
    "\n",
    "print('The percentage of negative recruitment decisions : %.2f' % (recruitmentdata['decision'].value_counts()[0] / len(recruitmentdata)))\n",
    "print('The percentage of positive recruitment decisions: %.2f' % (recruitmentdata['decision'].value_counts()[1] / len(recruitmentdata)))\n",
    "print()"
   ]
  },
  {
   "cell_type": "code",
   "execution_count": 10,
   "metadata": {
    "scrolled": false
   },
   "outputs": [
    {
     "data": {
      "text/plain": [
       "<AxesSubplot:xlabel='ind-degree', ylabel='count'>"
      ]
     },
     "execution_count": 10,
     "metadata": {},
     "output_type": "execute_result"
    },
    {
     "data": {
      "image/png": "[encoded data removed]",
      "text/plain": [
       "<Figure size 1008x1584 with 8 Axes>"
      ]
     },
     "metadata": {
      "needs_background": "light"
     },
     "output_type": "display_data"
    }
   ],
   "source": [
    "# Create count plots of all categorical attributes (decision 0 = not hired, decision 1 = hired)\n",
    "\n",
    "fig, axs = plt.subplots(4,2,figsize=(14, 22))\n",
    "\n",
    "sn.countplot(recruitmentdata.gender, hue=recruitmentdata.decision, palette = \"hls\", ax=axs[0,0])\n",
    "sn.countplot(recruitmentdata['ind-debateclub'], hue=recruitmentdata.decision, palette = \"hls\", ax=axs[0,1])\n",
    "sn.countplot(recruitmentdata['ind-programming_exp'], hue=recruitmentdata.decision, palette = \"hls\", ax=axs[1,0])\n",
    "sn.countplot(recruitmentdata['ind-international_exp'], hue=recruitmentdata.decision, palette = \"hls\", ax=axs[1,1])\n",
    "sn.countplot(recruitmentdata['ind-entrepeneur_exp'], hue=recruitmentdata.decision, palette = \"hls\", ax=axs[2,0])\n",
    "sn.countplot(recruitmentdata['ind-exact_study'], hue=recruitmentdata.decision, palette = \"hls\", ax=axs[2,1])\n",
    "sn.countplot(recruitmentdata['ind-degree'], hue=recruitmentdata.decision, palette = \"hls\", ax=axs[3,0])\n"
   ]
  },
  {
   "cell_type": "code",
   "execution_count": 64,
   "metadata": {},
   "outputs": [
    {
     "data": {
      "image/png": "[encoded data removed]",
      "text/plain": [
       "<Figure size 1008x864 with 3 Axes>"
      ]
     },
     "metadata": {
      "needs_background": "light"
     },
     "output_type": "display_data"
    }
   ],
   "source": [
    "# Create histograms of all numerical attributes (decision 0 = not hired, 1 = hired)\n",
    "\n",
    "plt.figure(figsize=(14, 12))\n",
    "\n",
    "plt.subplot(221)\n",
    "ax1 = sn.histplot(data=recruitmentdata, x='age', hue='decision', palette='hls', kde=True)\n",
    "ax1.set_title(\"Age Distribution\", fontsize=15)\n",
    "\n",
    "plt.subplot(222)\n",
    "ax1 = sn.histplot(data=recruitmentdata, x='ind-university_grade', hue='decision', palette='hls', kde=True)\n",
    "ax1.set_title(\"University Grade Distribution\", fontsize=15)\n",
    "\n",
    "plt.subplot(212)\n",
    "ax1 = sn.histplot(data=recruitmentdata, x='ind-languages', hue='decision', palette='hls', kde=True)\n",
    "ax1.set_title(\"Additional languages spoken Distribution\", fontsize=15)\n",
    "\n",
    "plt.show()"
   ]
  },
  {
   "cell_type": "markdown",
   "metadata": {},
   "source": [
    "#### Look for disparate impact in data set, using sex as sensitive attribute "
   ]
  },
  {
   "cell_type": "code",
   "execution_count": 11,
   "metadata": {},
   "outputs": [
    {
     "data": {
      "text/plain": [
       "male      530\n",
       "female    451\n",
       "other      19\n",
       "Name: gender, dtype: int64"
      ]
     },
     "execution_count": 11,
     "metadata": {},
     "output_type": "execute_result"
    }
   ],
   "source": [
    "recruitmentdata['gender'].value_counts() #Since the data largely contains male and female subjects, \n",
    "                                        # For conveninience, we only choose to use these two sexes in this analysis"
   ]
  },
  {
   "cell_type": "code",
   "execution_count": 12,
   "metadata": {},
   "outputs": [
    {
     "name": "stdout",
     "output_type": "stream",
     "text": [
      "Number of females who get hired:  63\n",
      "Number of females who do not get hired:  388\n",
      "Proportion of females receiving the favorable outcome:  0.13968957871396895\n",
      "\n",
      "Number of males who get hired:  241\n",
      "Number of males who do not get hired:  289\n",
      "Proportion of males receiving the favorable outcome:  0.4547169811320755\n",
      "\n",
      "The disparate impact ratio between the unprivileged (females) group and privileged group (males) is : 0.31 \n"
     ]
    }
   ],
   "source": [
    "# Look for disparate impact in the data set, using column info \n",
    "\n",
    "female = recruitmentdata.loc[recruitmentdata['gender'] == \"female\"] \n",
    "male = recruitmentdata.loc[recruitmentdata['gender'] == \"male\"] \n",
    "\n",
    "favorable_female = female.loc[female['decision'] == 1] \n",
    "unfavorable_female = female.loc[female['decision'] == 0] \n",
    "print(\"Number of females who get hired: \", len(favorable_female)) \n",
    "print(\"Number of females who do not get hired: \", len(unfavorable_female)) \n",
    "prop_female_favorable = len(favorable_female)/len(female)\n",
    "print(\"Proportion of females receiving the favorable outcome: \", prop_female_favorable) \n",
    "print()\n",
    "\n",
    "favorable_male = male.loc[male['decision'] == 1] \n",
    "unfavorable_male = male.loc[male['decision'] == 0]\n",
    "print(\"Number of males who get hired: \", len(favorable_male)) \n",
    "print(\"Number of males who do not get hired: \", len(unfavorable_male)) \n",
    "prop_male_favorable = len(favorable_male)/len(male)\n",
    "print(\"Proportion of males receiving the favorable outcome: \", prop_male_favorable) \n",
    "print()\n",
    "\n",
    "disparate_impact = prop_female_favorable / prop_male_favorable\n",
    "print(\"The disparate impact ratio between the unprivileged (females) group and privileged group (males) is : %.2f \" % disparate_impact)"
   ]
  },
  {
   "cell_type": "markdown",
   "metadata": {},
   "source": [
    "####  We can conclude that this data set is highly biased against females: the disparate impact ratio is 0.3"
   ]
  },
  {
   "cell_type": "markdown",
   "metadata": {},
   "source": [
    "### Splitting data into train and test set "
   ]
  },
  {
   "cell_type": "code",
   "execution_count": 67,
   "metadata": {},
   "outputs": [],
   "source": [
    "input_attributes = recruitmentdata.iloc[0:,0:12] # Split the data into input attributes and target attribute \n",
    "target_attribute = recruitmentdata['decision']\n",
    "\n",
    "cat_columns = [\"gender\", \"ind-debateclub\", \"ind-programming_exp\", \n",
    "               \"ind-international_exp\", \"ind-entrepeneur_exp\",\n",
    "                \"ind-exact_study\", \"ind-degree\"]\n",
    "num_columns = [\"age\", \"ind-university_grade\", \"ind-languages\"]\n",
    "\n",
    "X = input_attributes[cat_columns + num_columns]\n",
    "\n",
    "# Split data into train and test set. Change target attribute into int, since now it is an object type which sklearn cannot recognize\n",
    "x_train, x_test, y_train, y_test = train_test_split(X, target_attribute.astype('int'), test_size=0.25, random_state=42)\n",
    "\n",
    "x_train.reset_index(drop=True, inplace=True) # Reset indices\n",
    "x_test.reset_index(drop=True, inplace=True)\n",
    "\n",
    "y_train.reset_index(drop=True, inplace=True)\n",
    "y_test.reset_index(drop=True, inplace=True)"
   ]
  },
  {
   "cell_type": "markdown",
   "metadata": {},
   "source": [
    "### Preprocessing: one-hot encoding the categorical attributes, scale the numerical features and define sensitive features"
   ]
  },
  {
   "cell_type": "code",
   "execution_count": 68,
   "metadata": {},
   "outputs": [],
   "source": [
    "encoder = OneHotEncoder()\n",
    "scaler=MinMaxScaler()\n",
    "\n",
    "preprocessing = ColumnTransformer(\n",
    "    [\n",
    "        (\"categorical\", encoder, cat_columns),\n",
    "        (\"numerical\", scaler, num_columns)\n",
    "    ],\n",
    "    verbose_feature_names_out=False,\n",
    ")"
   ]
  },
  {
   "cell_type": "code",
   "execution_count": 69,
   "metadata": {},
   "outputs": [
    {
     "data": {
      "text/plain": [
       "male      124\n",
       "female    122\n",
       "other       4\n",
       "Name: gender, dtype: int64"
      ]
     },
     "execution_count": 69,
     "metadata": {},
     "output_type": "execute_result"
    }
   ],
   "source": [
    "gender = x_test['gender'] # Define sensitive features \n",
    "gender.value_counts()"
   ]
  },
  {
   "cell_type": "markdown",
   "metadata": {},
   "source": [
    "### Logistic Regression"
   ]
  },
  {
   "cell_type": "code",
   "execution_count": 70,
   "metadata": {},
   "outputs": [
    {
     "data": {
      "text/html": [
       "<style>#sk-container-id-8 {color: black;background-color: white;}#sk-container-id-8 pre{padding: 0;}#sk-container-id-8 div.sk-toggleable {background-color: white;}#sk-container-id-8 label.sk-toggleable__label {cursor: pointer;display: block;width: 100%;margin-bottom: 0;padding: 0.3em;box-sizing: border-box;text-align: center;}#sk-container-id-8 label.sk-toggleable__label-arrow:before {content: \"▸\";float: left;margin-right: 0.25em;color: #696969;}#sk-container-id-8 label.sk-toggleable__label-arrow:hover:before {color: black;}#sk-container-id-8 div.sk-estimator:hover label.sk-toggleable__label-arrow:before {color: black;}#sk-container-id-8 div.sk-toggleable__content {max-height: 0;max-width: 0;overflow: hidden;text-align: left;background-color: #f0f8ff;}#sk-container-id-8 div.sk-toggleable__content pre {margin: 0.2em;color: black;border-radius: 0.25em;background-color: #f0f8ff;}#sk-container-id-8 input.sk-toggleable__control:checked~div.sk-toggleable__content {max-height: 200px;max-width: 100%;overflow: auto;}#sk-container-id-8 input.sk-toggleable__control:checked~label.sk-toggleable__label-arrow:before {content: \"▾\";}#sk-container-id-8 div.sk-estimator input.sk-toggleable__control:checked~label.sk-toggleable__label {background-color: #d4ebff;}#sk-container-id-8 div.sk-label input.sk-toggleable__control:checked~label.sk-toggleable__label {background-color: #d4ebff;}#sk-container-id-8 input.sk-hidden--visually {border: 0;clip: rect(1px 1px 1px 1px);clip: rect(1px, 1px, 1px, 1px);height: 1px;margin: -1px;overflow: hidden;padding: 0;position: absolute;width: 1px;}#sk-container-id-8 div.sk-estimator {font-family: monospace;background-color: #f0f8ff;border: 1px dotted black;border-radius: 0.25em;box-sizing: border-box;margin-bottom: 0.5em;}#sk-container-id-8 div.sk-estimator:hover {background-color: #d4ebff;}#sk-container-id-8 div.sk-parallel-item::after {content: \"\";width: 100%;border-bottom: 1px solid gray;flex-grow: 1;}#sk-container-id-8 div.sk-label:hover label.sk-toggleable__label {background-color: #d4ebff;}#sk-container-id-8 div.sk-serial::before {content: \"\";position: absolute;border-left: 1px solid gray;box-sizing: border-box;top: 0;bottom: 0;left: 50%;z-index: 0;}#sk-container-id-8 div.sk-serial {display: flex;flex-direction: column;align-items: center;background-color: white;padding-right: 0.2em;padding-left: 0.2em;position: relative;}#sk-container-id-8 div.sk-item {position: relative;z-index: 1;}#sk-container-id-8 div.sk-parallel {display: flex;align-items: stretch;justify-content: center;background-color: white;position: relative;}#sk-container-id-8 div.sk-item::before, #sk-container-id-8 div.sk-parallel-item::before {content: \"\";position: absolute;border-left: 1px solid gray;box-sizing: border-box;top: 0;bottom: 0;left: 50%;z-index: -1;}#sk-container-id-8 div.sk-parallel-item {display: flex;flex-direction: column;z-index: 1;position: relative;background-color: white;}#sk-container-id-8 div.sk-parallel-item:first-child::after {align-self: flex-end;width: 50%;}#sk-container-id-8 div.sk-parallel-item:last-child::after {align-self: flex-start;width: 50%;}#sk-container-id-8 div.sk-parallel-item:only-child::after {width: 0;}#sk-container-id-8 div.sk-dashed-wrapped {border: 1px dashed gray;margin: 0 0.4em 0.5em 0.4em;box-sizing: border-box;padding-bottom: 0.4em;background-color: white;}#sk-container-id-8 div.sk-label label {font-family: monospace;font-weight: bold;display: inline-block;line-height: 1.2em;}#sk-container-id-8 div.sk-label-container {text-align: center;}#sk-container-id-8 div.sk-container {/* jupyter's `normalize.less` sets `[hidden] { display: none; }` but bootstrap.min.css set `[hidden] { display: none !important; }` so we also need the `!important` here to be able to override the default hidden behavior on the sphinx rendered scikit-learn.org. See: https://github.com/scikit-learn/scikit-learn/issues/21755 */display: inline-block !important;position: relative;}#sk-container-id-8 div.sk-text-repr-fallback {display: none;}</style><div id=\"sk-container-id-8\" class=\"sk-top-container\"><div class=\"sk-text-repr-fallback\"><pre>Pipeline(steps=[(&#x27;preprocess&#x27;,\n",
       "                 ColumnTransformer(transformers=[(&#x27;categorical&#x27;,\n",
       "                                                  OneHotEncoder(),\n",
       "                                                  [&#x27;gender&#x27;, &#x27;ind-debateclub&#x27;,\n",
       "                                                   &#x27;ind-programming_exp&#x27;,\n",
       "                                                   &#x27;ind-international_exp&#x27;,\n",
       "                                                   &#x27;ind-entrepeneur_exp&#x27;,\n",
       "                                                   &#x27;ind-exact_study&#x27;,\n",
       "                                                   &#x27;ind-degree&#x27;]),\n",
       "                                                 (&#x27;numerical&#x27;, MinMaxScaler(),\n",
       "                                                  [&#x27;age&#x27;,\n",
       "                                                   &#x27;ind-university_grade&#x27;,\n",
       "                                                   &#x27;ind-languages&#x27;])],\n",
       "                                   verbose_feature_names_out=False)),\n",
       "                (&#x27;classifier&#x27;, LogisticRegression(C=10, random_state=42))])</pre><b>In a Jupyter environment, please rerun this cell to show the HTML representation or trust the notebook. <br />On GitHub, the HTML representation is unable to render, please try loading this page with nbviewer.org.</b></div><div class=\"sk-container\" hidden><div class=\"sk-item sk-dashed-wrapped\"><div class=\"sk-label-container\"><div class=\"sk-label sk-toggleable\"><input class=\"sk-toggleable__control sk-hidden--visually\" id=\"sk-estimator-id-55\" type=\"checkbox\" ><label for=\"sk-estimator-id-55\" class=\"sk-toggleable__label sk-toggleable__label-arrow\">Pipeline</label><div class=\"sk-toggleable__content\"><pre>Pipeline(steps=[(&#x27;preprocess&#x27;,\n",
       "                 ColumnTransformer(transformers=[(&#x27;categorical&#x27;,\n",
       "                                                  OneHotEncoder(),\n",
       "                                                  [&#x27;gender&#x27;, &#x27;ind-debateclub&#x27;,\n",
       "                                                   &#x27;ind-programming_exp&#x27;,\n",
       "                                                   &#x27;ind-international_exp&#x27;,\n",
       "                                                   &#x27;ind-entrepeneur_exp&#x27;,\n",
       "                                                   &#x27;ind-exact_study&#x27;,\n",
       "                                                   &#x27;ind-degree&#x27;]),\n",
       "                                                 (&#x27;numerical&#x27;, MinMaxScaler(),\n",
       "                                                  [&#x27;age&#x27;,\n",
       "                                                   &#x27;ind-university_grade&#x27;,\n",
       "                                                   &#x27;ind-languages&#x27;])],\n",
       "                                   verbose_feature_names_out=False)),\n",
       "                (&#x27;classifier&#x27;, LogisticRegression(C=10, random_state=42))])</pre></div></div></div><div class=\"sk-serial\"><div class=\"sk-item sk-dashed-wrapped\"><div class=\"sk-label-container\"><div class=\"sk-label sk-toggleable\"><input class=\"sk-toggleable__control sk-hidden--visually\" id=\"sk-estimator-id-56\" type=\"checkbox\" ><label for=\"sk-estimator-id-56\" class=\"sk-toggleable__label sk-toggleable__label-arrow\">preprocess: ColumnTransformer</label><div class=\"sk-toggleable__content\"><pre>ColumnTransformer(transformers=[(&#x27;categorical&#x27;, OneHotEncoder(),\n",
       "                                 [&#x27;gender&#x27;, &#x27;ind-debateclub&#x27;,\n",
       "                                  &#x27;ind-programming_exp&#x27;,\n",
       "                                  &#x27;ind-international_exp&#x27;,\n",
       "                                  &#x27;ind-entrepeneur_exp&#x27;, &#x27;ind-exact_study&#x27;,\n",
       "                                  &#x27;ind-degree&#x27;]),\n",
       "                                (&#x27;numerical&#x27;, MinMaxScaler(),\n",
       "                                 [&#x27;age&#x27;, &#x27;ind-university_grade&#x27;,\n",
       "                                  &#x27;ind-languages&#x27;])],\n",
       "                  verbose_feature_names_out=False)</pre></div></div></div><div class=\"sk-parallel\"><div class=\"sk-parallel-item\"><div class=\"sk-item\"><div class=\"sk-label-container\"><div class=\"sk-label sk-toggleable\"><input class=\"sk-toggleable__control sk-hidden--visually\" id=\"sk-estimator-id-57\" type=\"checkbox\" ><label for=\"sk-estimator-id-57\" class=\"sk-toggleable__label sk-toggleable__label-arrow\">categorical</label><div class=\"sk-toggleable__content\"><pre>[&#x27;gender&#x27;, &#x27;ind-debateclub&#x27;, &#x27;ind-programming_exp&#x27;, &#x27;ind-international_exp&#x27;, &#x27;ind-entrepeneur_exp&#x27;, &#x27;ind-exact_study&#x27;, &#x27;ind-degree&#x27;]</pre></div></div></div><div class=\"sk-serial\"><div class=\"sk-item\"><div class=\"sk-estimator sk-toggleable\"><input class=\"sk-toggleable__control sk-hidden--visually\" id=\"sk-estimator-id-58\" type=\"checkbox\" ><label for=\"sk-estimator-id-58\" class=\"sk-toggleable__label sk-toggleable__label-arrow\">OneHotEncoder</label><div class=\"sk-toggleable__content\"><pre>OneHotEncoder()</pre></div></div></div></div></div></div><div class=\"sk-parallel-item\"><div class=\"sk-item\"><div class=\"sk-label-container\"><div class=\"sk-label sk-toggleable\"><input class=\"sk-toggleable__control sk-hidden--visually\" id=\"sk-estimator-id-59\" type=\"checkbox\" ><label for=\"sk-estimator-id-59\" class=\"sk-toggleable__label sk-toggleable__label-arrow\">numerical</label><div class=\"sk-toggleable__content\"><pre>[&#x27;age&#x27;, &#x27;ind-university_grade&#x27;, &#x27;ind-languages&#x27;]</pre></div></div></div><div class=\"sk-serial\"><div class=\"sk-item\"><div class=\"sk-estimator sk-toggleable\"><input class=\"sk-toggleable__control sk-hidden--visually\" id=\"sk-estimator-id-60\" type=\"checkbox\" ><label for=\"sk-estimator-id-60\" class=\"sk-toggleable__label sk-toggleable__label-arrow\">MinMaxScaler</label><div class=\"sk-toggleable__content\"><pre>MinMaxScaler()</pre></div></div></div></div></div></div></div></div><div class=\"sk-item\"><div class=\"sk-estimator sk-toggleable\"><input class=\"sk-toggleable__control sk-hidden--visually\" id=\"sk-estimator-id-61\" type=\"checkbox\" ><label for=\"sk-estimator-id-61\" class=\"sk-toggleable__label sk-toggleable__label-arrow\">LogisticRegression</label><div class=\"sk-toggleable__content\"><pre>LogisticRegression(C=10, random_state=42)</pre></div></div></div></div></div></div></div>"
      ],
      "text/plain": [
       "Pipeline(steps=[('preprocess',\n",
       "                 ColumnTransformer(transformers=[('categorical',\n",
       "                                                  OneHotEncoder(),\n",
       "                                                  ['gender', 'ind-debateclub',\n",
       "                                                   'ind-programming_exp',\n",
       "                                                   'ind-international_exp',\n",
       "                                                   'ind-entrepeneur_exp',\n",
       "                                                   'ind-exact_study',\n",
       "                                                   'ind-degree']),\n",
       "                                                 ('numerical', MinMaxScaler(),\n",
       "                                                  ['age',\n",
       "                                                   'ind-university_grade',\n",
       "                                                   'ind-languages'])],\n",
       "                                   verbose_feature_names_out=False)),\n",
       "                ('classifier', LogisticRegression(C=10, random_state=42))])"
      ]
     },
     "execution_count": 70,
     "metadata": {},
     "output_type": "execute_result"
    }
   ],
   "source": [
    "unmitigated_lr = Pipeline(\n",
    "    [\n",
    "        (\"preprocess\", preprocessing),\n",
    "        (\"classifier\", LogisticRegression(C=10,random_state=42)),\n",
    "    ]\n",
    ")\n",
    "unmitigated_lr.fit(x_train, y_train)"
   ]
  },
  {
   "cell_type": "code",
   "execution_count": 71,
   "metadata": {},
   "outputs": [
    {
     "name": "stdout",
     "output_type": "stream",
     "text": [
      "LR train accuracy: 0.884\n",
      "LR test accuracy: 0.864\n"
     ]
    }
   ],
   "source": [
    "print(f\"LR train accuracy: {unmitigated_lr.score(x_train, y_train):.3f}\")\n",
    "print(f\"LR test accuracy: {unmitigated_lr.score(x_test, y_test):.3f}\")"
   ]
  },
  {
   "cell_type": "code",
   "execution_count": 73,
   "metadata": {},
   "outputs": [
    {
     "name": "stdout",
     "output_type": "stream",
     "text": [
      "              precision    recall  f1-score   support\n",
      "\n",
      "           0       0.90      0.90      0.90       177\n",
      "           1       0.77      0.77      0.77        73\n",
      "\n",
      "    accuracy                           0.86       250\n",
      "   macro avg       0.84      0.84      0.84       250\n",
      "weighted avg       0.86      0.86      0.86       250\n",
      "\n",
      "[[160  17]\n",
      " [ 17  56]]\n"
     ]
    }
   ],
   "source": [
    "predictions_lr = unmitigated_lr.predict(x_test)\n",
    "predictions_lr\n",
    "\n",
    "print(skmetrics.classification_report(y_test, predictions_lr)) \n",
    "\n",
    "conf_matrix = skmetrics.confusion_matrix(y_test, predictions_lr)\n",
    "print(conf_matrix)  "
   ]
  },
  {
   "cell_type": "code",
   "execution_count": 74,
   "metadata": {},
   "outputs": [
    {
     "name": "stdout",
     "output_type": "stream",
     "text": [
      "Metrics by group: \n"
     ]
    },
    {
     "data": {
      "text/html": [
       "<div>\n",
       "<style scoped>\n",
       "    .dataframe tbody tr th:only-of-type {\n",
       "        vertical-align: middle;\n",
       "    }\n",
       "\n",
       "    .dataframe tbody tr th {\n",
       "        vertical-align: top;\n",
       "    }\n",
       "\n",
       "    .dataframe thead th {\n",
       "        text-align: right;\n",
       "    }\n",
       "</style>\n",
       "<table border=\"1\" class=\"dataframe\">\n",
       "  <thead>\n",
       "    <tr style=\"text-align: right;\">\n",
       "      <th></th>\n",
       "      <th>accuracy</th>\n",
       "      <th>selection rate</th>\n",
       "      <th>mean prediction</th>\n",
       "      <th>false positive rate</th>\n",
       "      <th>false negative rate</th>\n",
       "      <th>count</th>\n",
       "    </tr>\n",
       "    <tr>\n",
       "      <th>gender</th>\n",
       "      <th></th>\n",
       "      <th></th>\n",
       "      <th></th>\n",
       "      <th></th>\n",
       "      <th></th>\n",
       "      <th></th>\n",
       "    </tr>\n",
       "  </thead>\n",
       "  <tbody>\n",
       "    <tr>\n",
       "      <th>female</th>\n",
       "      <td>0.926230</td>\n",
       "      <td>0.114754</td>\n",
       "      <td>0.114754</td>\n",
       "      <td>0.037383</td>\n",
       "      <td>0.333333</td>\n",
       "      <td>122.0</td>\n",
       "    </tr>\n",
       "    <tr>\n",
       "      <th>male</th>\n",
       "      <td>0.814516</td>\n",
       "      <td>0.467742</td>\n",
       "      <td>0.467742</td>\n",
       "      <td>0.179104</td>\n",
       "      <td>0.192982</td>\n",
       "      <td>124.0</td>\n",
       "    </tr>\n",
       "    <tr>\n",
       "      <th>other</th>\n",
       "      <td>0.500000</td>\n",
       "      <td>0.250000</td>\n",
       "      <td>0.250000</td>\n",
       "      <td>0.333333</td>\n",
       "      <td>1.000000</td>\n",
       "      <td>4.0</td>\n",
       "    </tr>\n",
       "  </tbody>\n",
       "</table>\n",
       "</div>"
      ],
      "text/plain": [
       "        accuracy  selection rate  mean prediction  false positive rate  \\\n",
       "gender                                                                   \n",
       "female  0.926230        0.114754         0.114754             0.037383   \n",
       "male    0.814516        0.467742         0.467742             0.179104   \n",
       "other   0.500000        0.250000         0.250000             0.333333   \n",
       "\n",
       "        false negative rate  count  \n",
       "gender                              \n",
       "female             0.333333  122.0  \n",
       "male               0.192982  124.0  \n",
       "other              1.000000    4.0  "
      ]
     },
     "execution_count": 74,
     "metadata": {},
     "output_type": "execute_result"
    }
   ],
   "source": [
    "# Show metrics per group\n",
    "metrics = {\"accuracy\":accuracy_score, \"selection rate\": selection_rate, \"mean prediction\": mean_prediction,\n",
    "           \"false positive rate\": false_positive_rate, \"false negative rate\": false_negative_rate, \"count\": count}\n",
    "mf_lr = MetricFrame(\n",
    "    metrics=metrics,\n",
    "    y_true=y_test,\n",
    "    y_pred=predictions_lr,\n",
    "    sensitive_features=gender)\n",
    "\n",
    "print(\"Metrics by group: \") \n",
    "mf_lr.by_group\n"
   ]
  },
  {
   "cell_type": "code",
   "execution_count": 75,
   "metadata": {},
   "outputs": [
    {
     "data": {
      "text/plain": [
       "array([[<AxesSubplot:title={'center':'accuracy'}, xlabel='gender'>,\n",
       "        <AxesSubplot:title={'center':'selection rate'}, xlabel='gender'>,\n",
       "        <AxesSubplot:title={'center':'mean prediction'}, xlabel='gender'>],\n",
       "       [<AxesSubplot:title={'center':'false positive rate'}, xlabel='gender'>,\n",
       "        <AxesSubplot:title={'center':'false negative rate'}, xlabel='gender'>,\n",
       "        <AxesSubplot:title={'center':'count'}, xlabel='gender'>],\n",
       "       [<AxesSubplot:xlabel='gender'>, <AxesSubplot:xlabel='gender'>,\n",
       "        <AxesSubplot:xlabel='gender'>]], dtype=object)"
      ]
     },
     "execution_count": 75,
     "metadata": {},
     "output_type": "execute_result"
    },
    {
     "data": {
      "image/png": "[encoded data removed]",
      "text/plain": [
       "<Figure size 864x576 with 9 Axes>"
      ]
     },
     "metadata": {
      "needs_background": "light"
     },
     "output_type": "display_data"
    }
   ],
   "source": [
    "# Plot metrics by group\n",
    "mf_lr.by_group.plot.bar(\n",
    "    subplots=True,\n",
    "    layout=[3, 3],\n",
    "    legend=False,\n",
    "    figsize=[12, 8],\n",
    "    title=\"Fairness metrics of logistic regression model\",\n",
    ")"
   ]
  },
  {
   "cell_type": "markdown",
   "metadata": {},
   "source": [
    "###  Investigate feature importance"
   ]
  },
  {
   "cell_type": "code",
   "execution_count": 86,
   "metadata": {},
   "outputs": [
    {
     "name": "stdout",
     "output_type": "stream",
     "text": [
      "          Importance                      Feature\n",
      "18    (0.697, 9.677]                ind-languages\n",
      "14    (0.697, 9.677]            ind-degree_master\n",
      "17    (0.455, 0.697]         ind-university_grade\n",
      "4     (0.455, 0.697]          ind-debateclub_True\n",
      "11    (0.331, 0.455]        ind-exact_study_False\n",
      "1     (0.209, 0.331]                  gender_male\n",
      "10    (0.209, 0.331]     ind-entrepeneur_exp_True\n",
      "5     (0.101, 0.209]    ind-programming_exp_False\n",
      "7     (0.101, 0.209]  ind-international_exp_False\n",
      "2    (-0.118, 0.101]                 gender_other\n",
      "8   (-0.209, -0.118]   ind-international_exp_True\n",
      "6   (-0.209, -0.118]     ind-programming_exp_True\n",
      "9    (-0.29, -0.209]    ind-entrepeneur_exp_False\n",
      "0    (-0.29, -0.209]                gender_female\n",
      "12   (-0.359, -0.29]         ind-exact_study_True\n",
      "15  (-0.456, -0.359]               ind-degree_phd\n",
      "13  (-0.456, -0.359]          ind-degree_bachelor\n",
      "3   (-1.003, -0.456]         ind-debateclub_False\n",
      "16  (-1.003, -0.456]                          age\n"
     ]
    }
   ],
   "source": [
    "featureimportance = pd.DataFrame(data={\n",
    "                                'Feature': preprocessing.get_feature_names_out(),\n",
    "                                 'Importance': unmitigated_lr['classifier'].coef_[0]})\n",
    "featureimportance = featureimportance.sort_values(by='Importance', ascending=False) # Sorted dataframe of all features and their coefficients\n",
    "\n",
    "pd.qcut(featureimportance['Importance'], q=11)  #Divide all features up into 11 buckets (+++++ to -----)\n",
    "binned = pd.qcut(featureimportance['Importance'], q=11)\n",
    "binned_df = pd.DataFrame(binned)\n",
    "\n",
    "binned_df['Feature'] = featureimportance['Feature']\n",
    "print(binned_df)\n"
   ]
  },
  {
   "cell_type": "code",
   "execution_count": 88,
   "metadata": {},
   "outputs": [
    {
     "data": {
      "image/png": "[encoded data removed]",
      "text/plain": [
       "<Figure size 720x504 with 1 Axes>"
      ]
     },
     "metadata": {
      "needs_background": "light"
     },
     "output_type": "display_data"
    }
   ],
   "source": [
    "# Plot of all features and their belonging coefficients \n",
    "plt.figure(figsize=(10,7))\n",
    "plt.bar(x=featureimportance['Feature'], height=featureimportance['Importance'], color='purple')\n",
    "plt.title('Feature importances obtained from coefficients', size=20)\n",
    "plt.xticks(rotation='vertical')\n",
    "plt.show()\n"
   ]
  },
  {
   "cell_type": "markdown",
   "metadata": {},
   "source": [
    "### Bias mitigation "
   ]
  },
  {
   "cell_type": "code",
   "execution_count": 76,
   "metadata": {},
   "outputs": [
    {
     "data": {
      "text/html": [
       "<style>#sk-container-id-9 {color: black;background-color: white;}#sk-container-id-9 pre{padding: 0;}#sk-container-id-9 div.sk-toggleable {background-color: white;}#sk-container-id-9 label.sk-toggleable__label {cursor: pointer;display: block;width: 100%;margin-bottom: 0;padding: 0.3em;box-sizing: border-box;text-align: center;}#sk-container-id-9 label.sk-toggleable__label-arrow:before {content: \"▸\";float: left;margin-right: 0.25em;color: #696969;}#sk-container-id-9 label.sk-toggleable__label-arrow:hover:before {color: black;}#sk-container-id-9 div.sk-estimator:hover label.sk-toggleable__label-arrow:before {color: black;}#sk-container-id-9 div.sk-toggleable__content {max-height: 0;max-width: 0;overflow: hidden;text-align: left;background-color: #f0f8ff;}#sk-container-id-9 div.sk-toggleable__content pre {margin: 0.2em;color: black;border-radius: 0.25em;background-color: #f0f8ff;}#sk-container-id-9 input.sk-toggleable__control:checked~div.sk-toggleable__content {max-height: 200px;max-width: 100%;overflow: auto;}#sk-container-id-9 input.sk-toggleable__control:checked~label.sk-toggleable__label-arrow:before {content: \"▾\";}#sk-container-id-9 div.sk-estimator input.sk-toggleable__control:checked~label.sk-toggleable__label {background-color: #d4ebff;}#sk-container-id-9 div.sk-label input.sk-toggleable__control:checked~label.sk-toggleable__label {background-color: #d4ebff;}#sk-container-id-9 input.sk-hidden--visually {border: 0;clip: rect(1px 1px 1px 1px);clip: rect(1px, 1px, 1px, 1px);height: 1px;margin: -1px;overflow: hidden;padding: 0;position: absolute;width: 1px;}#sk-container-id-9 div.sk-estimator {font-family: monospace;background-color: #f0f8ff;border: 1px dotted black;border-radius: 0.25em;box-sizing: border-box;margin-bottom: 0.5em;}#sk-container-id-9 div.sk-estimator:hover {background-color: #d4ebff;}#sk-container-id-9 div.sk-parallel-item::after {content: \"\";width: 100%;border-bottom: 1px solid gray;flex-grow: 1;}#sk-container-id-9 div.sk-label:hover label.sk-toggleable__label {background-color: #d4ebff;}#sk-container-id-9 div.sk-serial::before {content: \"\";position: absolute;border-left: 1px solid gray;box-sizing: border-box;top: 0;bottom: 0;left: 50%;z-index: 0;}#sk-container-id-9 div.sk-serial {display: flex;flex-direction: column;align-items: center;background-color: white;padding-right: 0.2em;padding-left: 0.2em;position: relative;}#sk-container-id-9 div.sk-item {position: relative;z-index: 1;}#sk-container-id-9 div.sk-parallel {display: flex;align-items: stretch;justify-content: center;background-color: white;position: relative;}#sk-container-id-9 div.sk-item::before, #sk-container-id-9 div.sk-parallel-item::before {content: \"\";position: absolute;border-left: 1px solid gray;box-sizing: border-box;top: 0;bottom: 0;left: 50%;z-index: -1;}#sk-container-id-9 div.sk-parallel-item {display: flex;flex-direction: column;z-index: 1;position: relative;background-color: white;}#sk-container-id-9 div.sk-parallel-item:first-child::after {align-self: flex-end;width: 50%;}#sk-container-id-9 div.sk-parallel-item:last-child::after {align-self: flex-start;width: 50%;}#sk-container-id-9 div.sk-parallel-item:only-child::after {width: 0;}#sk-container-id-9 div.sk-dashed-wrapped {border: 1px dashed gray;margin: 0 0.4em 0.5em 0.4em;box-sizing: border-box;padding-bottom: 0.4em;background-color: white;}#sk-container-id-9 div.sk-label label {font-family: monospace;font-weight: bold;display: inline-block;line-height: 1.2em;}#sk-container-id-9 div.sk-label-container {text-align: center;}#sk-container-id-9 div.sk-container {/* jupyter's `normalize.less` sets `[hidden] { display: none; }` but bootstrap.min.css set `[hidden] { display: none !important; }` so we also need the `!important` here to be able to override the default hidden behavior on the sphinx rendered scikit-learn.org. See: https://github.com/scikit-learn/scikit-learn/issues/21755 */display: inline-block !important;position: relative;}#sk-container-id-9 div.sk-text-repr-fallback {display: none;}</style><div id=\"sk-container-id-9\" class=\"sk-top-container\"><div class=\"sk-text-repr-fallback\"><pre>ThresholdOptimizer(estimator=Pipeline(steps=[(&#x27;preprocess&#x27;,\n",
       "                                              ColumnTransformer(transformers=[(&#x27;categorical&#x27;,\n",
       "                                                                               OneHotEncoder(),\n",
       "                                                                               [&#x27;gender&#x27;,\n",
       "                                                                                &#x27;ind-debateclub&#x27;,\n",
       "                                                                                &#x27;ind-programming_exp&#x27;,\n",
       "                                                                                &#x27;ind-international_exp&#x27;,\n",
       "                                                                                &#x27;ind-entrepeneur_exp&#x27;,\n",
       "                                                                                &#x27;ind-exact_study&#x27;,\n",
       "                                                                                &#x27;ind-degree&#x27;]),\n",
       "                                                                              (&#x27;numerical&#x27;,\n",
       "                                                                               MinMaxScaler(),\n",
       "                                                                               [&#x27;age&#x27;,\n",
       "                                                                                &#x27;ind-university_grade&#x27;,\n",
       "                                                                                &#x27;ind-languages&#x27;])],\n",
       "                                                                verbose_feature_names_out=False)),\n",
       "                                             (&#x27;classifier&#x27;,\n",
       "                                              LogisticRegression(C=10,\n",
       "                                                                 random_state=42))]),\n",
       "                   predict_method=&#x27;predict_proba&#x27;, prefit=True)</pre><b>In a Jupyter environment, please rerun this cell to show the HTML representation or trust the notebook. <br />On GitHub, the HTML representation is unable to render, please try loading this page with nbviewer.org.</b></div><div class=\"sk-container\" hidden><div class=\"sk-item sk-dashed-wrapped\"><div class=\"sk-label-container\"><div class=\"sk-label sk-toggleable\"><input class=\"sk-toggleable__control sk-hidden--visually\" id=\"sk-estimator-id-62\" type=\"checkbox\" ><label for=\"sk-estimator-id-62\" class=\"sk-toggleable__label sk-toggleable__label-arrow\">ThresholdOptimizer</label><div class=\"sk-toggleable__content\"><pre>ThresholdOptimizer(estimator=Pipeline(steps=[(&#x27;preprocess&#x27;,\n",
       "                                              ColumnTransformer(transformers=[(&#x27;categorical&#x27;,\n",
       "                                                                               OneHotEncoder(),\n",
       "                                                                               [&#x27;gender&#x27;,\n",
       "                                                                                &#x27;ind-debateclub&#x27;,\n",
       "                                                                                &#x27;ind-programming_exp&#x27;,\n",
       "                                                                                &#x27;ind-international_exp&#x27;,\n",
       "                                                                                &#x27;ind-entrepeneur_exp&#x27;,\n",
       "                                                                                &#x27;ind-exact_study&#x27;,\n",
       "                                                                                &#x27;ind-degree&#x27;]),\n",
       "                                                                              (&#x27;numerical&#x27;,\n",
       "                                                                               MinMaxScaler(),\n",
       "                                                                               [&#x27;age&#x27;,\n",
       "                                                                                &#x27;ind-university_grade&#x27;,\n",
       "                                                                                &#x27;ind-languages&#x27;])],\n",
       "                                                                verbose_feature_names_out=False)),\n",
       "                                             (&#x27;classifier&#x27;,\n",
       "                                              LogisticRegression(C=10,\n",
       "                                                                 random_state=42))]),\n",
       "                   predict_method=&#x27;predict_proba&#x27;, prefit=True)</pre></div></div></div><div class=\"sk-parallel\"><div class=\"sk-parallel-item\"><div class=\"sk-item\"><div class=\"sk-label-container\"><div class=\"sk-label sk-toggleable\"><input class=\"sk-toggleable__control sk-hidden--visually\" id=\"sk-estimator-id-63\" type=\"checkbox\" ><label for=\"sk-estimator-id-63\" class=\"sk-toggleable__label sk-toggleable__label-arrow\">estimator: Pipeline</label><div class=\"sk-toggleable__content\"><pre>Pipeline(steps=[(&#x27;preprocess&#x27;,\n",
       "                 ColumnTransformer(transformers=[(&#x27;categorical&#x27;,\n",
       "                                                  OneHotEncoder(),\n",
       "                                                  [&#x27;gender&#x27;, &#x27;ind-debateclub&#x27;,\n",
       "                                                   &#x27;ind-programming_exp&#x27;,\n",
       "                                                   &#x27;ind-international_exp&#x27;,\n",
       "                                                   &#x27;ind-entrepeneur_exp&#x27;,\n",
       "                                                   &#x27;ind-exact_study&#x27;,\n",
       "                                                   &#x27;ind-degree&#x27;]),\n",
       "                                                 (&#x27;numerical&#x27;, MinMaxScaler(),\n",
       "                                                  [&#x27;age&#x27;,\n",
       "                                                   &#x27;ind-university_grade&#x27;,\n",
       "                                                   &#x27;ind-languages&#x27;])],\n",
       "                                   verbose_feature_names_out=False)),\n",
       "                (&#x27;classifier&#x27;, LogisticRegression(C=10, random_state=42))])</pre></div></div></div><div class=\"sk-serial\"><div class=\"sk-item\"><div class=\"sk-serial\"><div class=\"sk-item sk-dashed-wrapped\"><div class=\"sk-label-container\"><div class=\"sk-label sk-toggleable\"><input class=\"sk-toggleable__control sk-hidden--visually\" id=\"sk-estimator-id-64\" type=\"checkbox\" ><label for=\"sk-estimator-id-64\" class=\"sk-toggleable__label sk-toggleable__label-arrow\">preprocess: ColumnTransformer</label><div class=\"sk-toggleable__content\"><pre>ColumnTransformer(transformers=[(&#x27;categorical&#x27;, OneHotEncoder(),\n",
       "                                 [&#x27;gender&#x27;, &#x27;ind-debateclub&#x27;,\n",
       "                                  &#x27;ind-programming_exp&#x27;,\n",
       "                                  &#x27;ind-international_exp&#x27;,\n",
       "                                  &#x27;ind-entrepeneur_exp&#x27;, &#x27;ind-exact_study&#x27;,\n",
       "                                  &#x27;ind-degree&#x27;]),\n",
       "                                (&#x27;numerical&#x27;, MinMaxScaler(),\n",
       "                                 [&#x27;age&#x27;, &#x27;ind-university_grade&#x27;,\n",
       "                                  &#x27;ind-languages&#x27;])],\n",
       "                  verbose_feature_names_out=False)</pre></div></div></div><div class=\"sk-parallel\"><div class=\"sk-parallel-item\"><div class=\"sk-item\"><div class=\"sk-label-container\"><div class=\"sk-label sk-toggleable\"><input class=\"sk-toggleable__control sk-hidden--visually\" id=\"sk-estimator-id-65\" type=\"checkbox\" ><label for=\"sk-estimator-id-65\" class=\"sk-toggleable__label sk-toggleable__label-arrow\">categorical</label><div class=\"sk-toggleable__content\"><pre>[&#x27;gender&#x27;, &#x27;ind-debateclub&#x27;, &#x27;ind-programming_exp&#x27;, &#x27;ind-international_exp&#x27;, &#x27;ind-entrepeneur_exp&#x27;, &#x27;ind-exact_study&#x27;, &#x27;ind-degree&#x27;]</pre></div></div></div><div class=\"sk-serial\"><div class=\"sk-item\"><div class=\"sk-estimator sk-toggleable\"><input class=\"sk-toggleable__control sk-hidden--visually\" id=\"sk-estimator-id-66\" type=\"checkbox\" ><label for=\"sk-estimator-id-66\" class=\"sk-toggleable__label sk-toggleable__label-arrow\">OneHotEncoder</label><div class=\"sk-toggleable__content\"><pre>OneHotEncoder()</pre></div></div></div></div></div></div><div class=\"sk-parallel-item\"><div class=\"sk-item\"><div class=\"sk-label-container\"><div class=\"sk-label sk-toggleable\"><input class=\"sk-toggleable__control sk-hidden--visually\" id=\"sk-estimator-id-67\" type=\"checkbox\" ><label for=\"sk-estimator-id-67\" class=\"sk-toggleable__label sk-toggleable__label-arrow\">numerical</label><div class=\"sk-toggleable__content\"><pre>[&#x27;age&#x27;, &#x27;ind-university_grade&#x27;, &#x27;ind-languages&#x27;]</pre></div></div></div><div class=\"sk-serial\"><div class=\"sk-item\"><div class=\"sk-estimator sk-toggleable\"><input class=\"sk-toggleable__control sk-hidden--visually\" id=\"sk-estimator-id-68\" type=\"checkbox\" ><label for=\"sk-estimator-id-68\" class=\"sk-toggleable__label sk-toggleable__label-arrow\">MinMaxScaler</label><div class=\"sk-toggleable__content\"><pre>MinMaxScaler()</pre></div></div></div></div></div></div></div></div><div class=\"sk-item\"><div class=\"sk-estimator sk-toggleable\"><input class=\"sk-toggleable__control sk-hidden--visually\" id=\"sk-estimator-id-69\" type=\"checkbox\" ><label for=\"sk-estimator-id-69\" class=\"sk-toggleable__label sk-toggleable__label-arrow\">LogisticRegression</label><div class=\"sk-toggleable__content\"><pre>LogisticRegression(C=10, random_state=42)</pre></div></div></div></div></div></div></div></div></div></div></div></div>"
      ],
      "text/plain": [
       "ThresholdOptimizer(estimator=Pipeline(steps=[('preprocess',\n",
       "                                              ColumnTransformer(transformers=[('categorical',\n",
       "                                                                               OneHotEncoder(),\n",
       "                                                                               ['gender',\n",
       "                                                                                'ind-debateclub',\n",
       "                                                                                'ind-programming_exp',\n",
       "                                                                                'ind-international_exp',\n",
       "                                                                                'ind-entrepeneur_exp',\n",
       "                                                                                'ind-exact_study',\n",
       "                                                                                'ind-degree']),\n",
       "                                                                              ('numerical',\n",
       "                                                                               MinMaxScaler(),\n",
       "                                                                               ['age',\n",
       "                                                                                'ind-university_grade',\n",
       "                                                                                'ind-languages'])],\n",
       "                                                                verbose_feature_names_out=False)),\n",
       "                                             ('classifier',\n",
       "                                              LogisticRegression(C=10,\n",
       "                                                                 random_state=42))]),\n",
       "                   predict_method='predict_proba', prefit=True)"
      ]
     },
     "execution_count": 76,
     "metadata": {},
     "output_type": "execute_result"
    }
   ],
   "source": [
    "#Postprocessing for demographic parity \n",
    "\n",
    "postprocess_dp = ThresholdOptimizer(estimator=unmitigated_lr, constraints=\"demographic_parity\", \n",
    "                                     objective=\"accuracy_score\",prefit=True,predict_method='predict_proba')\n",
    "\n",
    "postprocess_dp.fit(x_train, y_train, sensitive_features = x_train['gender'])"
   ]
  },
  {
   "cell_type": "code",
   "execution_count": 77,
   "metadata": {},
   "outputs": [
    {
     "name": "stdout",
     "output_type": "stream",
     "text": [
      "              precision    recall  f1-score   support\n",
      "\n",
      "           0       0.83      0.91      0.87       177\n",
      "           1       0.71      0.53      0.61        73\n",
      "\n",
      "    accuracy                           0.80       250\n",
      "   macro avg       0.77      0.72      0.74       250\n",
      "weighted avg       0.79      0.80      0.79       250\n",
      "\n",
      "\n",
      "[[161  16]\n",
      " [ 34  39]]\n"
     ]
    }
   ],
   "source": [
    "predictions_lr_postpr = postprocess_dp.predict(x_test, sensitive_features=gender)\n",
    "\n",
    "print(skmetrics.classification_report(y_test, predictions_lr_postpr)) \n",
    "print()\n",
    "conf_matrix = skmetrics.confusion_matrix(y_test, predictions_lr_postpr)\n",
    "print(conf_matrix)"
   ]
  },
  {
   "cell_type": "code",
   "execution_count": 78,
   "metadata": {},
   "outputs": [
    {
     "name": "stdout",
     "output_type": "stream",
     "text": [
      "Metrics by group: \n"
     ]
    },
    {
     "data": {
      "text/html": [
       "<div>\n",
       "<style scoped>\n",
       "    .dataframe tbody tr th:only-of-type {\n",
       "        vertical-align: middle;\n",
       "    }\n",
       "\n",
       "    .dataframe tbody tr th {\n",
       "        vertical-align: top;\n",
       "    }\n",
       "\n",
       "    .dataframe thead th {\n",
       "        text-align: right;\n",
       "    }\n",
       "</style>\n",
       "<table border=\"1\" class=\"dataframe\">\n",
       "  <thead>\n",
       "    <tr style=\"text-align: right;\">\n",
       "      <th></th>\n",
       "      <th>accuracy</th>\n",
       "      <th>selection rate</th>\n",
       "      <th>mean prediction</th>\n",
       "      <th>false positive rate</th>\n",
       "      <th>false negative rate</th>\n",
       "      <th>count</th>\n",
       "    </tr>\n",
       "    <tr>\n",
       "      <th>gender</th>\n",
       "      <th></th>\n",
       "      <th></th>\n",
       "      <th></th>\n",
       "      <th></th>\n",
       "      <th></th>\n",
       "      <th></th>\n",
       "    </tr>\n",
       "  </thead>\n",
       "  <tbody>\n",
       "    <tr>\n",
       "      <th>female</th>\n",
       "      <td>0.893443</td>\n",
       "      <td>0.196721</td>\n",
       "      <td>0.196721</td>\n",
       "      <td>0.102804</td>\n",
       "      <td>0.133333</td>\n",
       "      <td>122.0</td>\n",
       "    </tr>\n",
       "    <tr>\n",
       "      <th>male</th>\n",
       "      <td>0.717742</td>\n",
       "      <td>0.241935</td>\n",
       "      <td>0.241935</td>\n",
       "      <td>0.059701</td>\n",
       "      <td>0.543860</td>\n",
       "      <td>124.0</td>\n",
       "    </tr>\n",
       "    <tr>\n",
       "      <th>other</th>\n",
       "      <td>0.500000</td>\n",
       "      <td>0.250000</td>\n",
       "      <td>0.250000</td>\n",
       "      <td>0.333333</td>\n",
       "      <td>1.000000</td>\n",
       "      <td>4.0</td>\n",
       "    </tr>\n",
       "  </tbody>\n",
       "</table>\n",
       "</div>"
      ],
      "text/plain": [
       "        accuracy  selection rate  mean prediction  false positive rate  \\\n",
       "gender                                                                   \n",
       "female  0.893443        0.196721         0.196721             0.102804   \n",
       "male    0.717742        0.241935         0.241935             0.059701   \n",
       "other   0.500000        0.250000         0.250000             0.333333   \n",
       "\n",
       "        false negative rate  count  \n",
       "gender                              \n",
       "female             0.133333  122.0  \n",
       "male               0.543860  124.0  \n",
       "other              1.000000    4.0  "
      ]
     },
     "execution_count": 78,
     "metadata": {},
     "output_type": "execute_result"
    }
   ],
   "source": [
    "# Show metrics by group after mitigation\n",
    "mf_lr_postpr = MetricFrame(\n",
    "    metrics=metrics,\n",
    "    y_true=y_test,\n",
    "    y_pred=predictions_lr_postpr,\n",
    "    sensitive_features=gender)\n",
    "\n",
    "print(\"Metrics by group: \") \n",
    "mf_lr_postpr.by_group"
   ]
  },
  {
   "cell_type": "code",
   "execution_count": 79,
   "metadata": {},
   "outputs": [
    {
     "data": {
      "text/plain": [
       "array([[<AxesSubplot:title={'center':'accuracy'}, xlabel='gender'>,\n",
       "        <AxesSubplot:title={'center':'selection rate'}, xlabel='gender'>,\n",
       "        <AxesSubplot:title={'center':'mean prediction'}, xlabel='gender'>],\n",
       "       [<AxesSubplot:title={'center':'false positive rate'}, xlabel='gender'>,\n",
       "        <AxesSubplot:title={'center':'false negative rate'}, xlabel='gender'>,\n",
       "        <AxesSubplot:title={'center':'count'}, xlabel='gender'>],\n",
       "       [<AxesSubplot:xlabel='gender'>, <AxesSubplot:xlabel='gender'>,\n",
       "        <AxesSubplot:xlabel='gender'>]], dtype=object)"
      ]
     },
     "execution_count": 79,
     "metadata": {},
     "output_type": "execute_result"
    },
    {
     "data": {
      "image/png": "[encoded data removed]",
      "text/plain": [
       "<Figure size 864x576 with 9 Axes>"
      ]
     },
     "metadata": {
      "needs_background": "light"
     },
     "output_type": "display_data"
    }
   ],
   "source": [
    "# Plot metrics by group after mitigation \n",
    "mf_lr_postpr.by_group.plot.bar(\n",
    "    subplots=True,\n",
    "    layout=[3, 3],\n",
    "    legend=False,\n",
    "    figsize=[12, 8],\n",
    "    title=\"Show all metrics\",\n",
    ")"
   ]
  },
  {
   "cell_type": "code",
   "execution_count": 80,
   "metadata": {},
   "outputs": [
    {
     "data": {
      "text/html": [
       "<style>#sk-container-id-10 {color: black;background-color: white;}#sk-container-id-10 pre{padding: 0;}#sk-container-id-10 div.sk-toggleable {background-color: white;}#sk-container-id-10 label.sk-toggleable__label {cursor: pointer;display: block;width: 100%;margin-bottom: 0;padding: 0.3em;box-sizing: border-box;text-align: center;}#sk-container-id-10 label.sk-toggleable__label-arrow:before {content: \"▸\";float: left;margin-right: 0.25em;color: #696969;}#sk-container-id-10 label.sk-toggleable__label-arrow:hover:before {color: black;}#sk-container-id-10 div.sk-estimator:hover label.sk-toggleable__label-arrow:before {color: black;}#sk-container-id-10 div.sk-toggleable__content {max-height: 0;max-width: 0;overflow: hidden;text-align: left;background-color: #f0f8ff;}#sk-container-id-10 div.sk-toggleable__content pre {margin: 0.2em;color: black;border-radius: 0.25em;background-color: #f0f8ff;}#sk-container-id-10 input.sk-toggleable__control:checked~div.sk-toggleable__content {max-height: 200px;max-width: 100%;overflow: auto;}#sk-container-id-10 input.sk-toggleable__control:checked~label.sk-toggleable__label-arrow:before {content: \"▾\";}#sk-container-id-10 div.sk-estimator input.sk-toggleable__control:checked~label.sk-toggleable__label {background-color: #d4ebff;}#sk-container-id-10 div.sk-label input.sk-toggleable__control:checked~label.sk-toggleable__label {background-color: #d4ebff;}#sk-container-id-10 input.sk-hidden--visually {border: 0;clip: rect(1px 1px 1px 1px);clip: rect(1px, 1px, 1px, 1px);height: 1px;margin: -1px;overflow: hidden;padding: 0;position: absolute;width: 1px;}#sk-container-id-10 div.sk-estimator {font-family: monospace;background-color: #f0f8ff;border: 1px dotted black;border-radius: 0.25em;box-sizing: border-box;margin-bottom: 0.5em;}#sk-container-id-10 div.sk-estimator:hover {background-color: #d4ebff;}#sk-container-id-10 div.sk-parallel-item::after {content: \"\";width: 100%;border-bottom: 1px solid gray;flex-grow: 1;}#sk-container-id-10 div.sk-label:hover label.sk-toggleable__label {background-color: #d4ebff;}#sk-container-id-10 div.sk-serial::before {content: \"\";position: absolute;border-left: 1px solid gray;box-sizing: border-box;top: 0;bottom: 0;left: 50%;z-index: 0;}#sk-container-id-10 div.sk-serial {display: flex;flex-direction: column;align-items: center;background-color: white;padding-right: 0.2em;padding-left: 0.2em;position: relative;}#sk-container-id-10 div.sk-item {position: relative;z-index: 1;}#sk-container-id-10 div.sk-parallel {display: flex;align-items: stretch;justify-content: center;background-color: white;position: relative;}#sk-container-id-10 div.sk-item::before, #sk-container-id-10 div.sk-parallel-item::before {content: \"\";position: absolute;border-left: 1px solid gray;box-sizing: border-box;top: 0;bottom: 0;left: 50%;z-index: -1;}#sk-container-id-10 div.sk-parallel-item {display: flex;flex-direction: column;z-index: 1;position: relative;background-color: white;}#sk-container-id-10 div.sk-parallel-item:first-child::after {align-self: flex-end;width: 50%;}#sk-container-id-10 div.sk-parallel-item:last-child::after {align-self: flex-start;width: 50%;}#sk-container-id-10 div.sk-parallel-item:only-child::after {width: 0;}#sk-container-id-10 div.sk-dashed-wrapped {border: 1px dashed gray;margin: 0 0.4em 0.5em 0.4em;box-sizing: border-box;padding-bottom: 0.4em;background-color: white;}#sk-container-id-10 div.sk-label label {font-family: monospace;font-weight: bold;display: inline-block;line-height: 1.2em;}#sk-container-id-10 div.sk-label-container {text-align: center;}#sk-container-id-10 div.sk-container {/* jupyter's `normalize.less` sets `[hidden] { display: none; }` but bootstrap.min.css set `[hidden] { display: none !important; }` so we also need the `!important` here to be able to override the default hidden behavior on the sphinx rendered scikit-learn.org. See: https://github.com/scikit-learn/scikit-learn/issues/21755 */display: inline-block !important;position: relative;}#sk-container-id-10 div.sk-text-repr-fallback {display: none;}</style><div id=\"sk-container-id-10\" class=\"sk-top-container\"><div class=\"sk-text-repr-fallback\"><pre>ThresholdOptimizer(constraints=&#x27;false_negative_rate_parity&#x27;,\n",
       "                   estimator=Pipeline(steps=[(&#x27;preprocess&#x27;,\n",
       "                                              ColumnTransformer(transformers=[(&#x27;categorical&#x27;,\n",
       "                                                                               OneHotEncoder(),\n",
       "                                                                               [&#x27;gender&#x27;,\n",
       "                                                                                &#x27;ind-debateclub&#x27;,\n",
       "                                                                                &#x27;ind-programming_exp&#x27;,\n",
       "                                                                                &#x27;ind-international_exp&#x27;,\n",
       "                                                                                &#x27;ind-entrepeneur_exp&#x27;,\n",
       "                                                                                &#x27;ind-exact_study&#x27;,\n",
       "                                                                                &#x27;ind-degree&#x27;]),\n",
       "                                                                              (&#x27;numerical&#x27;,\n",
       "                                                                               MinMaxScaler(),\n",
       "                                                                               [&#x27;age&#x27;,\n",
       "                                                                                &#x27;ind-university_grade&#x27;,\n",
       "                                                                                &#x27;ind-languages&#x27;])],\n",
       "                                                                verbose_feature_names_out=False)),\n",
       "                                             (&#x27;classifier&#x27;,\n",
       "                                              LogisticRegression(C=10,\n",
       "                                                                 random_state=42))]),\n",
       "                   predict_method=&#x27;predict_proba&#x27;, prefit=True)</pre><b>In a Jupyter environment, please rerun this cell to show the HTML representation or trust the notebook. <br />On GitHub, the HTML representation is unable to render, please try loading this page with nbviewer.org.</b></div><div class=\"sk-container\" hidden><div class=\"sk-item sk-dashed-wrapped\"><div class=\"sk-label-container\"><div class=\"sk-label sk-toggleable\"><input class=\"sk-toggleable__control sk-hidden--visually\" id=\"sk-estimator-id-70\" type=\"checkbox\" ><label for=\"sk-estimator-id-70\" class=\"sk-toggleable__label sk-toggleable__label-arrow\">ThresholdOptimizer</label><div class=\"sk-toggleable__content\"><pre>ThresholdOptimizer(constraints=&#x27;false_negative_rate_parity&#x27;,\n",
       "                   estimator=Pipeline(steps=[(&#x27;preprocess&#x27;,\n",
       "                                              ColumnTransformer(transformers=[(&#x27;categorical&#x27;,\n",
       "                                                                               OneHotEncoder(),\n",
       "                                                                               [&#x27;gender&#x27;,\n",
       "                                                                                &#x27;ind-debateclub&#x27;,\n",
       "                                                                                &#x27;ind-programming_exp&#x27;,\n",
       "                                                                                &#x27;ind-international_exp&#x27;,\n",
       "                                                                                &#x27;ind-entrepeneur_exp&#x27;,\n",
       "                                                                                &#x27;ind-exact_study&#x27;,\n",
       "                                                                                &#x27;ind-degree&#x27;]),\n",
       "                                                                              (&#x27;numerical&#x27;,\n",
       "                                                                               MinMaxScaler(),\n",
       "                                                                               [&#x27;age&#x27;,\n",
       "                                                                                &#x27;ind-university_grade&#x27;,\n",
       "                                                                                &#x27;ind-languages&#x27;])],\n",
       "                                                                verbose_feature_names_out=False)),\n",
       "                                             (&#x27;classifier&#x27;,\n",
       "                                              LogisticRegression(C=10,\n",
       "                                                                 random_state=42))]),\n",
       "                   predict_method=&#x27;predict_proba&#x27;, prefit=True)</pre></div></div></div><div class=\"sk-parallel\"><div class=\"sk-parallel-item\"><div class=\"sk-item\"><div class=\"sk-label-container\"><div class=\"sk-label sk-toggleable\"><input class=\"sk-toggleable__control sk-hidden--visually\" id=\"sk-estimator-id-71\" type=\"checkbox\" ><label for=\"sk-estimator-id-71\" class=\"sk-toggleable__label sk-toggleable__label-arrow\">estimator: Pipeline</label><div class=\"sk-toggleable__content\"><pre>Pipeline(steps=[(&#x27;preprocess&#x27;,\n",
       "                 ColumnTransformer(transformers=[(&#x27;categorical&#x27;,\n",
       "                                                  OneHotEncoder(),\n",
       "                                                  [&#x27;gender&#x27;, &#x27;ind-debateclub&#x27;,\n",
       "                                                   &#x27;ind-programming_exp&#x27;,\n",
       "                                                   &#x27;ind-international_exp&#x27;,\n",
       "                                                   &#x27;ind-entrepeneur_exp&#x27;,\n",
       "                                                   &#x27;ind-exact_study&#x27;,\n",
       "                                                   &#x27;ind-degree&#x27;]),\n",
       "                                                 (&#x27;numerical&#x27;, MinMaxScaler(),\n",
       "                                                  [&#x27;age&#x27;,\n",
       "                                                   &#x27;ind-university_grade&#x27;,\n",
       "                                                   &#x27;ind-languages&#x27;])],\n",
       "                                   verbose_feature_names_out=False)),\n",
       "                (&#x27;classifier&#x27;, LogisticRegression(C=10, random_state=42))])</pre></div></div></div><div class=\"sk-serial\"><div class=\"sk-item\"><div class=\"sk-serial\"><div class=\"sk-item sk-dashed-wrapped\"><div class=\"sk-label-container\"><div class=\"sk-label sk-toggleable\"><input class=\"sk-toggleable__control sk-hidden--visually\" id=\"sk-estimator-id-72\" type=\"checkbox\" ><label for=\"sk-estimator-id-72\" class=\"sk-toggleable__label sk-toggleable__label-arrow\">preprocess: ColumnTransformer</label><div class=\"sk-toggleable__content\"><pre>ColumnTransformer(transformers=[(&#x27;categorical&#x27;, OneHotEncoder(),\n",
       "                                 [&#x27;gender&#x27;, &#x27;ind-debateclub&#x27;,\n",
       "                                  &#x27;ind-programming_exp&#x27;,\n",
       "                                  &#x27;ind-international_exp&#x27;,\n",
       "                                  &#x27;ind-entrepeneur_exp&#x27;, &#x27;ind-exact_study&#x27;,\n",
       "                                  &#x27;ind-degree&#x27;]),\n",
       "                                (&#x27;numerical&#x27;, MinMaxScaler(),\n",
       "                                 [&#x27;age&#x27;, &#x27;ind-university_grade&#x27;,\n",
       "                                  &#x27;ind-languages&#x27;])],\n",
       "                  verbose_feature_names_out=False)</pre></div></div></div><div class=\"sk-parallel\"><div class=\"sk-parallel-item\"><div class=\"sk-item\"><div class=\"sk-label-container\"><div class=\"sk-label sk-toggleable\"><input class=\"sk-toggleable__control sk-hidden--visually\" id=\"sk-estimator-id-73\" type=\"checkbox\" ><label for=\"sk-estimator-id-73\" class=\"sk-toggleable__label sk-toggleable__label-arrow\">categorical</label><div class=\"sk-toggleable__content\"><pre>[&#x27;gender&#x27;, &#x27;ind-debateclub&#x27;, &#x27;ind-programming_exp&#x27;, &#x27;ind-international_exp&#x27;, &#x27;ind-entrepeneur_exp&#x27;, &#x27;ind-exact_study&#x27;, &#x27;ind-degree&#x27;]</pre></div></div></div><div class=\"sk-serial\"><div class=\"sk-item\"><div class=\"sk-estimator sk-toggleable\"><input class=\"sk-toggleable__control sk-hidden--visually\" id=\"sk-estimator-id-74\" type=\"checkbox\" ><label for=\"sk-estimator-id-74\" class=\"sk-toggleable__label sk-toggleable__label-arrow\">OneHotEncoder</label><div class=\"sk-toggleable__content\"><pre>OneHotEncoder()</pre></div></div></div></div></div></div><div class=\"sk-parallel-item\"><div class=\"sk-item\"><div class=\"sk-label-container\"><div class=\"sk-label sk-toggleable\"><input class=\"sk-toggleable__control sk-hidden--visually\" id=\"sk-estimator-id-75\" type=\"checkbox\" ><label for=\"sk-estimator-id-75\" class=\"sk-toggleable__label sk-toggleable__label-arrow\">numerical</label><div class=\"sk-toggleable__content\"><pre>[&#x27;age&#x27;, &#x27;ind-university_grade&#x27;, &#x27;ind-languages&#x27;]</pre></div></div></div><div class=\"sk-serial\"><div class=\"sk-item\"><div class=\"sk-estimator sk-toggleable\"><input class=\"sk-toggleable__control sk-hidden--visually\" id=\"sk-estimator-id-76\" type=\"checkbox\" ><label for=\"sk-estimator-id-76\" class=\"sk-toggleable__label sk-toggleable__label-arrow\">MinMaxScaler</label><div class=\"sk-toggleable__content\"><pre>MinMaxScaler()</pre></div></div></div></div></div></div></div></div><div class=\"sk-item\"><div class=\"sk-estimator sk-toggleable\"><input class=\"sk-toggleable__control sk-hidden--visually\" id=\"sk-estimator-id-77\" type=\"checkbox\" ><label for=\"sk-estimator-id-77\" class=\"sk-toggleable__label sk-toggleable__label-arrow\">LogisticRegression</label><div class=\"sk-toggleable__content\"><pre>LogisticRegression(C=10, random_state=42)</pre></div></div></div></div></div></div></div></div></div></div></div></div>"
      ],
      "text/plain": [
       "ThresholdOptimizer(constraints='false_negative_rate_parity',\n",
       "                   estimator=Pipeline(steps=[('preprocess',\n",
       "                                              ColumnTransformer(transformers=[('categorical',\n",
       "                                                                               OneHotEncoder(),\n",
       "                                                                               ['gender',\n",
       "                                                                                'ind-debateclub',\n",
       "                                                                                'ind-programming_exp',\n",
       "                                                                                'ind-international_exp',\n",
       "                                                                                'ind-entrepeneur_exp',\n",
       "                                                                                'ind-exact_study',\n",
       "                                                                                'ind-degree']),\n",
       "                                                                              ('numerical',\n",
       "                                                                               MinMaxScaler(),\n",
       "                                                                               ['age',\n",
       "                                                                                'ind-university_grade',\n",
       "                                                                                'ind-languages'])],\n",
       "                                                                verbose_feature_names_out=False)),\n",
       "                                             ('classifier',\n",
       "                                              LogisticRegression(C=10,\n",
       "                                                                 random_state=42))]),\n",
       "                   predict_method='predict_proba', prefit=True)"
      ]
     },
     "execution_count": 80,
     "metadata": {},
     "output_type": "execute_result"
    }
   ],
   "source": [
    "# Postprocessing for equality of opportunity \n",
    "\n",
    "postprocess_eqo = ThresholdOptimizer(estimator=unmitigated_lr, constraints=\"false_negative_rate_parity\", \n",
    "                                     objective=\"accuracy_score\",prefit=True,predict_method='predict_proba')\n",
    "\n",
    "postprocess_eqo.fit(x_train, y_train, sensitive_features = x_train['gender'])"
   ]
  },
  {
   "cell_type": "code",
   "execution_count": 81,
   "metadata": {},
   "outputs": [
    {
     "name": "stdout",
     "output_type": "stream",
     "text": [
      "              precision    recall  f1-score   support\n",
      "\n",
      "           0       0.92      0.89      0.91       177\n",
      "           1       0.76      0.81      0.78        73\n",
      "\n",
      "    accuracy                           0.87       250\n",
      "   macro avg       0.84      0.85      0.84       250\n",
      "weighted avg       0.87      0.87      0.87       250\n",
      "\n",
      "\n",
      "[[158  19]\n",
      " [ 14  59]]\n"
     ]
    }
   ],
   "source": [
    "predictions_lr_postpr_eqo = postprocess_eqo.predict(x_test, sensitive_features=gender)\n",
    "\n",
    "print(skmetrics.classification_report(y_test, predictions_lr_postpr_eqo)) \n",
    "print()\n",
    "conf_matrix = skmetrics.confusion_matrix(y_test, predictions_lr_postpr_eqo)\n",
    "print(conf_matrix)"
   ]
  },
  {
   "cell_type": "code",
   "execution_count": 82,
   "metadata": {},
   "outputs": [
    {
     "name": "stdout",
     "output_type": "stream",
     "text": [
      "Metrics by group: \n"
     ]
    },
    {
     "data": {
      "text/html": [
       "<div>\n",
       "<style scoped>\n",
       "    .dataframe tbody tr th:only-of-type {\n",
       "        vertical-align: middle;\n",
       "    }\n",
       "\n",
       "    .dataframe tbody tr th {\n",
       "        vertical-align: top;\n",
       "    }\n",
       "\n",
       "    .dataframe thead th {\n",
       "        text-align: right;\n",
       "    }\n",
       "</style>\n",
       "<table border=\"1\" class=\"dataframe\">\n",
       "  <thead>\n",
       "    <tr style=\"text-align: right;\">\n",
       "      <th></th>\n",
       "      <th>accuracy</th>\n",
       "      <th>selection rate</th>\n",
       "      <th>mean prediction</th>\n",
       "      <th>false positive rate</th>\n",
       "      <th>false negative rate</th>\n",
       "      <th>count</th>\n",
       "    </tr>\n",
       "    <tr>\n",
       "      <th>gender</th>\n",
       "      <th></th>\n",
       "      <th></th>\n",
       "      <th></th>\n",
       "      <th></th>\n",
       "      <th></th>\n",
       "      <th></th>\n",
       "    </tr>\n",
       "  </thead>\n",
       "  <tbody>\n",
       "    <tr>\n",
       "      <th>female</th>\n",
       "      <td>0.918033</td>\n",
       "      <td>0.172131</td>\n",
       "      <td>0.172131</td>\n",
       "      <td>0.074766</td>\n",
       "      <td>0.133333</td>\n",
       "      <td>122.0</td>\n",
       "    </tr>\n",
       "    <tr>\n",
       "      <th>male</th>\n",
       "      <td>0.822581</td>\n",
       "      <td>0.443548</td>\n",
       "      <td>0.443548</td>\n",
       "      <td>0.149254</td>\n",
       "      <td>0.210526</td>\n",
       "      <td>124.0</td>\n",
       "    </tr>\n",
       "    <tr>\n",
       "      <th>other</th>\n",
       "      <td>0.750000</td>\n",
       "      <td>0.500000</td>\n",
       "      <td>0.500000</td>\n",
       "      <td>0.333333</td>\n",
       "      <td>0.000000</td>\n",
       "      <td>4.0</td>\n",
       "    </tr>\n",
       "  </tbody>\n",
       "</table>\n",
       "</div>"
      ],
      "text/plain": [
       "        accuracy  selection rate  mean prediction  false positive rate  \\\n",
       "gender                                                                   \n",
       "female  0.918033        0.172131         0.172131             0.074766   \n",
       "male    0.822581        0.443548         0.443548             0.149254   \n",
       "other   0.750000        0.500000         0.500000             0.333333   \n",
       "\n",
       "        false negative rate  count  \n",
       "gender                              \n",
       "female             0.133333  122.0  \n",
       "male               0.210526  124.0  \n",
       "other              0.000000    4.0  "
      ]
     },
     "execution_count": 82,
     "metadata": {},
     "output_type": "execute_result"
    }
   ],
   "source": [
    "# Show metrics by group after mitigation\n",
    "mf_lr_postpr = MetricFrame(\n",
    "    metrics=metrics,\n",
    "    y_true=y_test,\n",
    "    y_pred=predictions_lr_postpr_eqo,\n",
    "    sensitive_features=gender)\n",
    "\n",
    "print(\"Metrics by group: \") \n",
    "mf_lr_postpr.by_group"
   ]
  },
  {
   "cell_type": "code",
   "execution_count": 83,
   "metadata": {},
   "outputs": [
    {
     "data": {
      "text/plain": [
       "array([[<AxesSubplot:title={'center':'accuracy'}, xlabel='gender'>,\n",
       "        <AxesSubplot:title={'center':'selection rate'}, xlabel='gender'>,\n",
       "        <AxesSubplot:title={'center':'mean prediction'}, xlabel='gender'>],\n",
       "       [<AxesSubplot:title={'center':'false positive rate'}, xlabel='gender'>,\n",
       "        <AxesSubplot:title={'center':'false negative rate'}, xlabel='gender'>,\n",
       "        <AxesSubplot:title={'center':'count'}, xlabel='gender'>],\n",
       "       [<AxesSubplot:xlabel='gender'>, <AxesSubplot:xlabel='gender'>,\n",
       "        <AxesSubplot:xlabel='gender'>]], dtype=object)"
      ]
     },
     "execution_count": 83,
     "metadata": {},
     "output_type": "execute_result"
    },
    {
     "data": {
      "image/png": "[encoded data removed]",
      "text/plain": [
       "<Figure size 864x576 with 9 Axes>"
      ]
     },
     "metadata": {
      "needs_background": "light"
     },
     "output_type": "display_data"
    }
   ],
   "source": [
    "# Plot metrics by group after mitigation \n",
    "mf_lr_postpr.by_group.plot.bar(\n",
    "    subplots=True,\n",
    "    layout=[3, 3],\n",
    "    legend=False,\n",
    "    figsize=[12, 8],\n",
    "    title=\"Show all metrics\",\n",
    ")"
   ]
  }
 ],
 "metadata": {
  "kernelspec": {
   "display_name": "Python 3",
   "language": "python",
   "name": "python3"
  },
  "language_info": {
   "codemirror_mode": {
    "name": "ipython",
    "version": 3
   },
   "file_extension": ".py",
   "mimetype": "text/x-python",
   "name": "python",
   "nbconvert_exporter": "python",
   "pygments_lexer": "ipython3",
   "version": "3.8.5"
  }
 },
 "nbformat": 4,
 "nbformat_minor": 4
}
