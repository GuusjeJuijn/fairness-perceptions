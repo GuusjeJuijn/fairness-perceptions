{
 "cells": [
  {
   "cell_type": "markdown",
   "metadata": {},
   "source": [
    "### Import statements"
   ]
  },
  {
   "cell_type": "code",
   "execution_count": 2,
   "metadata": {},
   "outputs": [],
   "source": [
    "import pandas as pd\n",
    "import numpy as np\n",
    "from matplotlib import pyplot as plt\n",
    "import seaborn as sn\n",
    "import pandas as pd\n",
    "import warnings\n",
    "from sklearn.model_selection import train_test_split\n",
    "from sklearn.preprocessing import OneHotEncoder\n",
    "from sklearn.metrics import confusion_matrix\n",
    "from sklearn.metrics import accuracy_score\n",
    "from sklearn import model_selection\n",
    "from sklearn.linear_model import LogisticRegression\n",
    "from sklearn.tree import DecisionTreeClassifier\n",
    "from sklearn.neighbors import KNeighborsClassifier\n",
    "from sklearn.discriminant_analysis import LinearDiscriminantAnalysis\n",
    "from sklearn.naive_bayes import GaussianNB\n",
    "from sklearn.svm import SVC\n",
    "from sklearn.neural_network import MLPClassifier \n",
    "import sklearn.metrics as skmetrics\n",
    "from sklearn.preprocessing import MinMaxScaler\n",
    "from sklearn.linear_model import LogisticRegression\n",
    "from sklearn.metrics import accuracy_score\n",
    "from sklearn.ensemble import RandomForestClassifier\n",
    "from sklearn.compose import ColumnTransformer\n",
    "from sklearn.pipeline import Pipeline\n",
    "from sklearn.inspection import permutation_importance\n",
    "from matplotlib import pyplot\n",
    "from fairlearn.metrics import MetricFrame\n",
    "from fairlearn.metrics import selection_rate\n",
    "from fairlearn.metrics import false_positive_rate\n",
    "from fairlearn.metrics import false_negative_rate\n",
    "from fairlearn.metrics import mean_prediction\n",
    "from fairlearn.metrics import demographic_parity_difference\n",
    "from fairlearn.metrics import count\n",
    "from fairlearn.postprocessing import ThresholdOptimizer\n",
    "import shap\n",
    "\n",
    "warnings.filterwarnings('ignore')"
   ]
  },
  {
   "cell_type": "markdown",
   "metadata": {},
   "source": [
    "### Reading in data and exploratory data analysis"
   ]
  },
  {
   "cell_type": "code",
   "execution_count": 3,
   "metadata": {},
   "outputs": [],
   "source": [
    "creditdata =  pd.read_csv('/Users/guusjejuijn/Desktop/Scriptie/Programmeren/Scriptie/simplified_german_credit_data.csv', index_col=0)"
   ]
  },
  {
   "cell_type": "code",
   "execution_count": 4,
   "metadata": {
    "scrolled": true
   },
   "outputs": [
    {
     "data": {
      "text/html": [
       "<div>\n",
       "<style scoped>\n",
       "    .dataframe tbody tr th:only-of-type {\n",
       "        vertical-align: middle;\n",
       "    }\n",
       "\n",
       "    .dataframe tbody tr th {\n",
       "        vertical-align: top;\n",
       "    }\n",
       "\n",
       "    .dataframe thead th {\n",
       "        text-align: right;\n",
       "    }\n",
       "</style>\n",
       "<table border=\"1\" class=\"dataframe\">\n",
       "  <thead>\n",
       "    <tr style=\"text-align: right;\">\n",
       "      <th></th>\n",
       "      <th>Age</th>\n",
       "      <th>Sex</th>\n",
       "      <th>Job</th>\n",
       "      <th>Housing</th>\n",
       "      <th>Saving accounts</th>\n",
       "      <th>Checking account</th>\n",
       "      <th>Credit amount</th>\n",
       "      <th>Duration</th>\n",
       "      <th>Purpose</th>\n",
       "      <th>Risk</th>\n",
       "    </tr>\n",
       "  </thead>\n",
       "  <tbody>\n",
       "    <tr>\n",
       "      <th>0</th>\n",
       "      <td>67</td>\n",
       "      <td>male</td>\n",
       "      <td>2</td>\n",
       "      <td>own</td>\n",
       "      <td>NaN</td>\n",
       "      <td>little</td>\n",
       "      <td>1169</td>\n",
       "      <td>6</td>\n",
       "      <td>radio/TV</td>\n",
       "      <td>good</td>\n",
       "    </tr>\n",
       "    <tr>\n",
       "      <th>1</th>\n",
       "      <td>22</td>\n",
       "      <td>female</td>\n",
       "      <td>2</td>\n",
       "      <td>own</td>\n",
       "      <td>little</td>\n",
       "      <td>moderate</td>\n",
       "      <td>5951</td>\n",
       "      <td>48</td>\n",
       "      <td>radio/TV</td>\n",
       "      <td>bad</td>\n",
       "    </tr>\n",
       "    <tr>\n",
       "      <th>2</th>\n",
       "      <td>49</td>\n",
       "      <td>male</td>\n",
       "      <td>1</td>\n",
       "      <td>own</td>\n",
       "      <td>little</td>\n",
       "      <td>NaN</td>\n",
       "      <td>2096</td>\n",
       "      <td>12</td>\n",
       "      <td>education</td>\n",
       "      <td>good</td>\n",
       "    </tr>\n",
       "    <tr>\n",
       "      <th>3</th>\n",
       "      <td>45</td>\n",
       "      <td>male</td>\n",
       "      <td>2</td>\n",
       "      <td>free</td>\n",
       "      <td>little</td>\n",
       "      <td>little</td>\n",
       "      <td>7882</td>\n",
       "      <td>42</td>\n",
       "      <td>furniture/equipment</td>\n",
       "      <td>good</td>\n",
       "    </tr>\n",
       "    <tr>\n",
       "      <th>4</th>\n",
       "      <td>53</td>\n",
       "      <td>male</td>\n",
       "      <td>2</td>\n",
       "      <td>free</td>\n",
       "      <td>little</td>\n",
       "      <td>little</td>\n",
       "      <td>4870</td>\n",
       "      <td>24</td>\n",
       "      <td>car</td>\n",
       "      <td>bad</td>\n",
       "    </tr>\n",
       "  </tbody>\n",
       "</table>\n",
       "</div>"
      ],
      "text/plain": [
       "   Age     Sex  Job Housing Saving accounts Checking account  Credit amount  \\\n",
       "0   67    male    2     own             NaN           little           1169   \n",
       "1   22  female    2     own          little         moderate           5951   \n",
       "2   49    male    1     own          little              NaN           2096   \n",
       "3   45    male    2    free          little           little           7882   \n",
       "4   53    male    2    free          little           little           4870   \n",
       "\n",
       "   Duration              Purpose  Risk  \n",
       "0         6             radio/TV  good  \n",
       "1        48             radio/TV   bad  \n",
       "2        12            education  good  \n",
       "3        42  furniture/equipment  good  \n",
       "4        24                  car   bad  "
      ]
     },
     "execution_count": 4,
     "metadata": {},
     "output_type": "execute_result"
    }
   ],
   "source": [
    "creditdata.head(5)"
   ]
  },
  {
   "cell_type": "code",
   "execution_count": 5,
   "metadata": {},
   "outputs": [
    {
     "data": {
      "text/plain": [
       "(1000, 10)"
      ]
     },
     "execution_count": 5,
     "metadata": {},
     "output_type": "execute_result"
    }
   ],
   "source": [
    "creditdata.shape"
   ]
  },
  {
   "cell_type": "code",
   "execution_count": 6,
   "metadata": {},
   "outputs": [
    {
     "name": "stdout",
     "output_type": "stream",
     "text": [
      "<class 'pandas.core.frame.DataFrame'>\n",
      "Int64Index: 1000 entries, 0 to 999\n",
      "Data columns (total 10 columns):\n",
      " #   Column            Non-Null Count  Dtype \n",
      "---  ------            --------------  ----- \n",
      " 0   Age               1000 non-null   int64 \n",
      " 1   Sex               1000 non-null   object\n",
      " 2   Job               1000 non-null   int64 \n",
      " 3   Housing           1000 non-null   object\n",
      " 4   Saving accounts   817 non-null    object\n",
      " 5   Checking account  606 non-null    object\n",
      " 6   Credit amount     1000 non-null   int64 \n",
      " 7   Duration          1000 non-null   int64 \n",
      " 8   Purpose           1000 non-null   object\n",
      " 9   Risk              1000 non-null   object\n",
      "dtypes: int64(4), object(6)\n",
      "memory usage: 85.9+ KB\n"
     ]
    }
   ],
   "source": [
    "creditdata.info() # Check for missing values and data types "
   ]
  },
  {
   "cell_type": "code",
   "execution_count": 7,
   "metadata": {},
   "outputs": [
    {
     "data": {
      "text/plain": [
       "Age                   0\n",
       "Sex                   0\n",
       "Job                   0\n",
       "Housing               0\n",
       "Saving accounts     183\n",
       "Checking account    394\n",
       "Credit amount         0\n",
       "Duration              0\n",
       "Purpose               0\n",
       "Risk                  0\n",
       "dtype: int64"
      ]
     },
     "execution_count": 7,
     "metadata": {},
     "output_type": "execute_result"
    }
   ],
   "source": [
    "creditdata.isnull().sum() # Check number of missing values "
   ]
  },
  {
   "cell_type": "code",
   "execution_count": 174,
   "metadata": {},
   "outputs": [
    {
     "data": {
      "text/plain": [
       "Age                 0\n",
       "Sex                 0\n",
       "Job                 0\n",
       "Housing             0\n",
       "Saving accounts     0\n",
       "Checking account    0\n",
       "Credit amount       0\n",
       "Duration            0\n",
       "Purpose             0\n",
       "Risk                0\n",
       "dtype: int64"
      ]
     },
     "execution_count": 174,
     "metadata": {},
     "output_type": "execute_result"
    }
   ],
   "source": [
    "# Dealing with NaN's: we fill the missing values with the mode of all values of that column \n",
    "creditdata[\"Saving accounts\"].fillna(creditdata['Saving accounts'].mode()[0], inplace=True)\n",
    "creditdata[\"Checking account\"].fillna(creditdata['Checking account'].mode()[0], inplace=True)\n",
    "creditdata.isnull().sum()"
   ]
  },
  {
   "cell_type": "code",
   "execution_count": 175,
   "metadata": {},
   "outputs": [
    {
     "data": {
      "text/html": [
       "<div>\n",
       "<style scoped>\n",
       "    .dataframe tbody tr th:only-of-type {\n",
       "        vertical-align: middle;\n",
       "    }\n",
       "\n",
       "    .dataframe tbody tr th {\n",
       "        vertical-align: top;\n",
       "    }\n",
       "\n",
       "    .dataframe thead th {\n",
       "        text-align: right;\n",
       "    }\n",
       "</style>\n",
       "<table border=\"1\" class=\"dataframe\">\n",
       "  <thead>\n",
       "    <tr style=\"text-align: right;\">\n",
       "      <th></th>\n",
       "      <th>Age</th>\n",
       "      <th>Job</th>\n",
       "      <th>Credit amount</th>\n",
       "      <th>Duration</th>\n",
       "    </tr>\n",
       "  </thead>\n",
       "  <tbody>\n",
       "    <tr>\n",
       "      <th>count</th>\n",
       "      <td>1000.000000</td>\n",
       "      <td>1000.000000</td>\n",
       "      <td>1000.000000</td>\n",
       "      <td>1000.000000</td>\n",
       "    </tr>\n",
       "    <tr>\n",
       "      <th>mean</th>\n",
       "      <td>35.546000</td>\n",
       "      <td>1.904000</td>\n",
       "      <td>3271.258000</td>\n",
       "      <td>20.903000</td>\n",
       "    </tr>\n",
       "    <tr>\n",
       "      <th>std</th>\n",
       "      <td>11.375469</td>\n",
       "      <td>0.653614</td>\n",
       "      <td>2822.736876</td>\n",
       "      <td>12.058814</td>\n",
       "    </tr>\n",
       "    <tr>\n",
       "      <th>min</th>\n",
       "      <td>19.000000</td>\n",
       "      <td>0.000000</td>\n",
       "      <td>250.000000</td>\n",
       "      <td>4.000000</td>\n",
       "    </tr>\n",
       "    <tr>\n",
       "      <th>25%</th>\n",
       "      <td>27.000000</td>\n",
       "      <td>2.000000</td>\n",
       "      <td>1365.500000</td>\n",
       "      <td>12.000000</td>\n",
       "    </tr>\n",
       "    <tr>\n",
       "      <th>50%</th>\n",
       "      <td>33.000000</td>\n",
       "      <td>2.000000</td>\n",
       "      <td>2319.500000</td>\n",
       "      <td>18.000000</td>\n",
       "    </tr>\n",
       "    <tr>\n",
       "      <th>75%</th>\n",
       "      <td>42.000000</td>\n",
       "      <td>2.000000</td>\n",
       "      <td>3972.250000</td>\n",
       "      <td>24.000000</td>\n",
       "    </tr>\n",
       "    <tr>\n",
       "      <th>max</th>\n",
       "      <td>75.000000</td>\n",
       "      <td>3.000000</td>\n",
       "      <td>18424.000000</td>\n",
       "      <td>72.000000</td>\n",
       "    </tr>\n",
       "  </tbody>\n",
       "</table>\n",
       "</div>"
      ],
      "text/plain": [
       "               Age          Job  Credit amount     Duration\n",
       "count  1000.000000  1000.000000    1000.000000  1000.000000\n",
       "mean     35.546000     1.904000    3271.258000    20.903000\n",
       "std      11.375469     0.653614    2822.736876    12.058814\n",
       "min      19.000000     0.000000     250.000000     4.000000\n",
       "25%      27.000000     2.000000    1365.500000    12.000000\n",
       "50%      33.000000     2.000000    2319.500000    18.000000\n",
       "75%      42.000000     2.000000    3972.250000    24.000000\n",
       "max      75.000000     3.000000   18424.000000    72.000000"
      ]
     },
     "execution_count": 175,
     "metadata": {},
     "output_type": "execute_result"
    }
   ],
   "source": [
    "creditdata.describe() # Describe numerical data "
   ]
  },
  {
   "cell_type": "code",
   "execution_count": 9,
   "metadata": {},
   "outputs": [
    {
     "name": "stdout",
     "output_type": "stream",
     "text": [
      "2    630\n",
      "1    200\n",
      "3    148\n",
      "0     22\n",
      "Name: Job, dtype: int64\n"
     ]
    }
   ],
   "source": [
    "print(creditdata['Job'].value_counts()) #Check whether we can transform job column into category instead of numerical\n",
    "\n",
    "creditdata['Job'] = creditdata['Job'].astype('O')"
   ]
  },
  {
   "cell_type": "code",
   "execution_count": 10,
   "metadata": {},
   "outputs": [
    {
     "data": {
      "text/html": [
       "<div>\n",
       "<style scoped>\n",
       "    .dataframe tbody tr th:only-of-type {\n",
       "        vertical-align: middle;\n",
       "    }\n",
       "\n",
       "    .dataframe tbody tr th {\n",
       "        vertical-align: top;\n",
       "    }\n",
       "\n",
       "    .dataframe thead th {\n",
       "        text-align: right;\n",
       "    }\n",
       "</style>\n",
       "<table border=\"1\" class=\"dataframe\">\n",
       "  <thead>\n",
       "    <tr style=\"text-align: right;\">\n",
       "      <th></th>\n",
       "      <th>Sex</th>\n",
       "      <th>Job</th>\n",
       "      <th>Housing</th>\n",
       "      <th>Saving accounts</th>\n",
       "      <th>Checking account</th>\n",
       "      <th>Purpose</th>\n",
       "      <th>Risk</th>\n",
       "    </tr>\n",
       "  </thead>\n",
       "  <tbody>\n",
       "    <tr>\n",
       "      <th>count</th>\n",
       "      <td>1000</td>\n",
       "      <td>1000</td>\n",
       "      <td>1000</td>\n",
       "      <td>817</td>\n",
       "      <td>606</td>\n",
       "      <td>1000</td>\n",
       "      <td>1000</td>\n",
       "    </tr>\n",
       "    <tr>\n",
       "      <th>unique</th>\n",
       "      <td>2</td>\n",
       "      <td>4</td>\n",
       "      <td>3</td>\n",
       "      <td>4</td>\n",
       "      <td>3</td>\n",
       "      <td>8</td>\n",
       "      <td>2</td>\n",
       "    </tr>\n",
       "    <tr>\n",
       "      <th>top</th>\n",
       "      <td>male</td>\n",
       "      <td>2</td>\n",
       "      <td>own</td>\n",
       "      <td>little</td>\n",
       "      <td>little</td>\n",
       "      <td>car</td>\n",
       "      <td>good</td>\n",
       "    </tr>\n",
       "    <tr>\n",
       "      <th>freq</th>\n",
       "      <td>690</td>\n",
       "      <td>630</td>\n",
       "      <td>713</td>\n",
       "      <td>603</td>\n",
       "      <td>274</td>\n",
       "      <td>337</td>\n",
       "      <td>700</td>\n",
       "    </tr>\n",
       "  </tbody>\n",
       "</table>\n",
       "</div>"
      ],
      "text/plain": [
       "         Sex   Job Housing Saving accounts Checking account Purpose  Risk\n",
       "count   1000  1000    1000             817              606    1000  1000\n",
       "unique     2     4       3               4                3       8     2\n",
       "top     male     2     own          little           little     car  good\n",
       "freq     690   630     713             603              274     337   700"
      ]
     },
     "execution_count": 10,
     "metadata": {},
     "output_type": "execute_result"
    }
   ],
   "source": [
    "creditdata.describe(include='O') # Describe categorical data "
   ]
  },
  {
   "cell_type": "code",
   "execution_count": 11,
   "metadata": {},
   "outputs": [
    {
     "name": "stdout",
     "output_type": "stream",
     "text": [
      "percentage of customers predicted to be of good risk : 0.70\n",
      "percentage of customers predicted to be of bad risk: 0.30\n"
     ]
    },
    {
     "data": {
      "image/png": "[encoded data removed]",
      "text/plain": [
       "<Figure size 360x216 with 1 Axes>"
      ]
     },
     "metadata": {
      "needs_background": "light"
     },
     "output_type": "display_data"
    }
   ],
   "source": [
    "# Plot distribution of target variable (rating 1 = good, rating 2 = bad)\n",
    "plt.figure(figsize=(5,3))\n",
    "sn.countplot(creditdata['Risk'], palette = \"Set2\"); \n",
    "\n",
    "print('percentage of customers predicted to be of good risk : %.2f' % (creditdata['Risk'].value_counts()['good'] / len(creditdata)))\n",
    "print('percentage of customers predicted to be of bad risk: %.2f' % (creditdata['Risk'].value_counts()['bad'] / len(creditdata)))"
   ]
  },
  {
   "cell_type": "code",
   "execution_count": 12,
   "metadata": {
    "scrolled": true
   },
   "outputs": [
    {
     "data": {
      "text/plain": [
       "<AxesSubplot:xlabel='Job', ylabel='count'>"
      ]
     },
     "execution_count": 12,
     "metadata": {},
     "output_type": "execute_result"
    },
    {
     "data": {
      "image/png": "[encoded data removed]",
      "text/plain": [
       "<Figure size 1080x1440 with 6 Axes>"
      ]
     },
     "metadata": {
      "needs_background": "light"
     },
     "output_type": "display_data"
    }
   ],
   "source": [
    "# Create count plots of all categorical attributes (rating 1 = good, rating 2 = bad)\n",
    "fig, axs = plt.subplots(3,2,figsize=(15, 20))\n",
    "sn.countplot(creditdata['Sex'], hue=creditdata.Risk, palette = \"Set2\", ax=axs[0,0])\n",
    "sn.countplot(creditdata['Housing'], hue=creditdata.Risk, palette = \"Set2\", ax=axs[0,1])\n",
    "sn.countplot(creditdata['Saving accounts'], hue=creditdata.Risk, palette = \"Set2\", ax=axs[1,0])\n",
    "sn.countplot(creditdata['Checking account'], hue=creditdata.Risk, palette = \"Set2\", ax=axs[1,1])\n",
    "sn.countplot(creditdata['Purpose'], hue=creditdata.Risk, palette = \"Set2\", ax=axs[2,0])\n",
    "sn.countplot(creditdata['Job'], hue=creditdata.Risk, palette = \"Set2\", ax=axs[2,1])\n"
   ]
  },
  {
   "cell_type": "code",
   "execution_count": 14,
   "metadata": {},
   "outputs": [
    {
     "data": {
      "text/plain": [
       "[Text(0, 0, 'radio/TV'),\n",
       " Text(1, 0, 'education'),\n",
       " Text(2, 0, 'furniture/equipment'),\n",
       " Text(3, 0, 'car'),\n",
       " Text(4, 0, 'business'),\n",
       " Text(5, 0, 'domestic appliances'),\n",
       " Text(6, 0, 'repairs'),\n",
       " Text(7, 0, 'vacation/others')]"
      ]
     },
     "execution_count": 14,
     "metadata": {},
     "output_type": "execute_result"
    },
    {
     "data": {
      "image/png": "[encoded data removed]",
      "text/plain": [
       "<Figure size 576x360 with 1 Axes>"
      ]
     },
     "metadata": {
      "needs_background": "light"
     },
     "output_type": "display_data"
    }
   ],
   "source": [
    "plt.figure(figsize=(8,5))\n",
    "purpose = sn.countplot(creditdata['Purpose'], hue=creditdata.Risk, palette = \"Set2\")\n",
    "purpose.set_xticklabels(purpose.get_xticklabels(), rotation=45)"
   ]
  },
  {
   "cell_type": "code",
   "execution_count": 15,
   "metadata": {},
   "outputs": [
    {
     "data": {
      "image/png": "[encoded data removed]",
      "text/plain": [
       "<Figure size 1008x864 with 3 Axes>"
      ]
     },
     "metadata": {
      "needs_background": "light"
     },
     "output_type": "display_data"
    }
   ],
   "source": [
    "# Create histograms of all numerical attributes (rating 1 = good, rating 2 = bad)\n",
    "\n",
    "plt.figure(figsize=(14, 12))\n",
    "\n",
    "plt.subplot(221)\n",
    "ax1 = sn.histplot(data=creditdata, x='Age', hue='Risk', palette='Set2', kde=True)\n",
    "ax1.set_title(\"Age Distribution\", fontsize=15)\n",
    "\n",
    "plt.subplot(222)\n",
    "ax2 = sn.histplot(data=creditdata, x='Credit amount', hue='Risk', palette='Set2', kde=True)\n",
    "ax2.set_title(\"Credit Amount Distribution\", fontsize=15)\n",
    "\n",
    "plt.subplot(212)\n",
    "ax3 = sn.histplot(data=creditdata, x='Duration', hue='Risk', palette='Set2', kde=True, bins=10)\n",
    "ax3.set_title(\"Duration Distribution\", fontsize=15)\n",
    "\n",
    "plt.show()"
   ]
  },
  {
   "cell_type": "markdown",
   "metadata": {},
   "source": [
    "#### Based on the analysis by Kamiran and Calders (2009), we discretize the numerical attribute 'age' into a categorical variable: we cut it off into the categories 'youth' (<25 years old) and 'adult' (25+ years old). In this way, young can be selected as the protected attribute"
   ]
  },
  {
   "cell_type": "code",
   "execution_count": 16,
   "metadata": {},
   "outputs": [
    {
     "name": "stdout",
     "output_type": "stream",
     "text": [
      "0      67\n",
      "1      22\n",
      "2      49\n",
      "3      45\n",
      "4      53\n",
      "       ..\n",
      "995    31\n",
      "996    40\n",
      "997    38\n",
      "998    23\n",
      "999    27\n",
      "Name: Age, Length: 1000, dtype: int64\n"
     ]
    }
   ],
   "source": [
    "print(creditdata['Age'])"
   ]
  },
  {
   "cell_type": "code",
   "execution_count": 17,
   "metadata": {},
   "outputs": [
    {
     "name": "stdout",
     "output_type": "stream",
     "text": [
      "0      1\n",
      "1      0\n",
      "2      1\n",
      "3      1\n",
      "4      1\n",
      "      ..\n",
      "995    1\n",
      "996    1\n",
      "997    1\n",
      "998    0\n",
      "999    1\n",
      "Name: Age, Length: 1000, dtype: int64\n",
      "\n",
      "Categories: \n",
      "1    851\n",
      "0    149\n",
      "Name: Age, dtype: int64\n",
      "\n",
      "0      1\n",
      "1      0\n",
      "2      1\n",
      "3      1\n",
      "4      1\n",
      "      ..\n",
      "995    1\n",
      "996    1\n",
      "997    1\n",
      "998    0\n",
      "999    1\n",
      "Name: Age, Length: 1000, dtype: int64\n"
     ]
    }
   ],
   "source": [
    "# Categorize age into category 'young' (0-24) and 'adult' (25-75) (oldest person in dataset is 75) => young = 0, adult = 1 \n",
    "creditdata['Age'] = (creditdata['Age'] > 24).astype(int) \n",
    "\n",
    "print(creditdata['Age'])\n",
    "print()\n",
    "\n",
    "print(\"Categories: \")\n",
    "print(creditdata['Age'].value_counts())\n",
    "print()\n",
    "print(creditdata['Age'])"
   ]
  },
  {
   "cell_type": "markdown",
   "metadata": {},
   "source": [
    "#### Now we can plot the age distribution"
   ]
  },
  {
   "cell_type": "code",
   "execution_count": 18,
   "metadata": {},
   "outputs": [],
   "source": [
    "creditdata['Age'] = creditdata['Age'].astype('O')"
   ]
  },
  {
   "cell_type": "code",
   "execution_count": 20,
   "metadata": {},
   "outputs": [
    {
     "data": {
      "text/plain": [
       "<AxesSubplot:xlabel='Age', ylabel='count'>"
      ]
     },
     "execution_count": 20,
     "metadata": {},
     "output_type": "execute_result"
    },
    {
     "data": {
      "image/png": "[encoded data removed]",
      "text/plain": [
       "<Figure size 432x288 with 1 Axes>"
      ]
     },
     "metadata": {
      "needs_background": "light"
     },
     "output_type": "display_data"
    }
   ],
   "source": [
    "sn.countplot(creditdata.Age, hue=creditdata.Risk, palette = \"Set2\")"
   ]
  },
  {
   "cell_type": "markdown",
   "metadata": {},
   "source": [
    "#### We can see that an adult has a higher chance of getting a good rating, compared to a young person. "
   ]
  },
  {
   "cell_type": "markdown",
   "metadata": {},
   "source": [
    "#### Look for disparate impact in the data set"
   ]
  },
  {
   "cell_type": "code",
   "execution_count": 21,
   "metadata": {},
   "outputs": [
    {
     "name": "stdout",
     "output_type": "stream",
     "text": [
      "Number of young people who receive a good rating:  88\n",
      "Number of young people who receive a bad rating:  61\n",
      "Proportion of young people receiving the favorable outcome:  0.5906040268456376\n",
      "\n",
      "Number of adults who receive a good rating:  612\n",
      "Number of adults who receive a bad rating:  239\n",
      "Proportion of adults receiving the favorable outcome:  0.7191539365452408\n",
      "\n",
      "The disparate impact ratio between the unprivileged (young) group and privileged group (adults) is : 0.82 \n"
     ]
    }
   ],
   "source": [
    "# Look for disparate impact in the data set, using column info \n",
    "\n",
    "young = creditdata.loc[creditdata['Age'] == 0] # Subset of creditdata set containing only the young people\n",
    "adult = creditdata.loc[creditdata['Age'] == 1] # Subset of creditdata set containing only the adults\n",
    "\n",
    "favorable_young = young.loc[young['Risk'] == 'good'] # Young people who receive a good rating \n",
    "unfavorable_young = young.loc[young['Risk'] == 'bad'] # Young people who receive a bad rating\n",
    "print(\"Number of young people who receive a good rating: \", len(favorable_young)) \n",
    "print(\"Number of young people who receive a bad rating: \", len(unfavorable_young)) \n",
    "prop_young_favorable = len(favorable_young)/len(young)\n",
    "print(\"Proportion of young people receiving the favorable outcome: \", prop_young_favorable) \n",
    "print()\n",
    "\n",
    "favorable_adult = adult.loc[adult['Risk'] == 'good']  # Adults who receive a good rating \n",
    "unfavorable_adult = adult.loc[adult['Risk'] == 'bad'] # Adults who receive a bad rating\n",
    "print(\"Number of adults who receive a good rating: \", len(favorable_adult)) \n",
    "print(\"Number of adults who receive a bad rating: \", len(unfavorable_adult))\n",
    "prop_adult_favorable = len(favorable_adult)/len(adult)\n",
    "print(\"Proportion of adults receiving the favorable outcome: \", prop_adult_favorable)\n",
    "\n",
    "print()\n",
    "\n",
    "disparate_impact = prop_young_favorable / prop_adult_favorable\n",
    "print(\"The disparate impact ratio between the unprivileged (young) group and privileged group (adults) is : %.2f \" % disparate_impact)"
   ]
  },
  {
   "cell_type": "markdown",
   "metadata": {},
   "source": [
    "### Splitting  data into train and test set"
   ]
  },
  {
   "cell_type": "code",
   "execution_count": 22,
   "metadata": {},
   "outputs": [
    {
     "data": {
      "text/html": [
       "<div>\n",
       "<style scoped>\n",
       "    .dataframe tbody tr th:only-of-type {\n",
       "        vertical-align: middle;\n",
       "    }\n",
       "\n",
       "    .dataframe tbody tr th {\n",
       "        vertical-align: top;\n",
       "    }\n",
       "\n",
       "    .dataframe thead th {\n",
       "        text-align: right;\n",
       "    }\n",
       "</style>\n",
       "<table border=\"1\" class=\"dataframe\">\n",
       "  <thead>\n",
       "    <tr style=\"text-align: right;\">\n",
       "      <th></th>\n",
       "      <th>Age</th>\n",
       "      <th>Sex</th>\n",
       "      <th>Job</th>\n",
       "      <th>Housing</th>\n",
       "      <th>Saving accounts</th>\n",
       "      <th>Checking account</th>\n",
       "      <th>Credit amount</th>\n",
       "      <th>Duration</th>\n",
       "      <th>Purpose</th>\n",
       "      <th>Risk</th>\n",
       "    </tr>\n",
       "  </thead>\n",
       "  <tbody>\n",
       "    <tr>\n",
       "      <th>0</th>\n",
       "      <td>1</td>\n",
       "      <td>male</td>\n",
       "      <td>2</td>\n",
       "      <td>own</td>\n",
       "      <td>NaN</td>\n",
       "      <td>little</td>\n",
       "      <td>1169</td>\n",
       "      <td>6</td>\n",
       "      <td>radio/TV</td>\n",
       "      <td>1</td>\n",
       "    </tr>\n",
       "    <tr>\n",
       "      <th>1</th>\n",
       "      <td>0</td>\n",
       "      <td>female</td>\n",
       "      <td>2</td>\n",
       "      <td>own</td>\n",
       "      <td>little</td>\n",
       "      <td>moderate</td>\n",
       "      <td>5951</td>\n",
       "      <td>48</td>\n",
       "      <td>radio/TV</td>\n",
       "      <td>0</td>\n",
       "    </tr>\n",
       "    <tr>\n",
       "      <th>2</th>\n",
       "      <td>1</td>\n",
       "      <td>male</td>\n",
       "      <td>1</td>\n",
       "      <td>own</td>\n",
       "      <td>little</td>\n",
       "      <td>NaN</td>\n",
       "      <td>2096</td>\n",
       "      <td>12</td>\n",
       "      <td>education</td>\n",
       "      <td>1</td>\n",
       "    </tr>\n",
       "    <tr>\n",
       "      <th>3</th>\n",
       "      <td>1</td>\n",
       "      <td>male</td>\n",
       "      <td>2</td>\n",
       "      <td>free</td>\n",
       "      <td>little</td>\n",
       "      <td>little</td>\n",
       "      <td>7882</td>\n",
       "      <td>42</td>\n",
       "      <td>furniture/equipment</td>\n",
       "      <td>1</td>\n",
       "    </tr>\n",
       "    <tr>\n",
       "      <th>4</th>\n",
       "      <td>1</td>\n",
       "      <td>male</td>\n",
       "      <td>2</td>\n",
       "      <td>free</td>\n",
       "      <td>little</td>\n",
       "      <td>little</td>\n",
       "      <td>4870</td>\n",
       "      <td>24</td>\n",
       "      <td>car</td>\n",
       "      <td>0</td>\n",
       "    </tr>\n",
       "  </tbody>\n",
       "</table>\n",
       "</div>"
      ],
      "text/plain": [
       "  Age     Sex Job Housing Saving accounts Checking account  Credit amount  \\\n",
       "0   1    male   2     own             NaN           little           1169   \n",
       "1   0  female   2     own          little         moderate           5951   \n",
       "2   1    male   1     own          little              NaN           2096   \n",
       "3   1    male   2    free          little           little           7882   \n",
       "4   1    male   2    free          little           little           4870   \n",
       "\n",
       "   Duration              Purpose Risk  \n",
       "0         6             radio/TV    1  \n",
       "1        48             radio/TV    0  \n",
       "2        12            education    1  \n",
       "3        42  furniture/equipment    1  \n",
       "4        24                  car    0  "
      ]
     },
     "execution_count": 22,
     "metadata": {},
     "output_type": "execute_result"
    }
   ],
   "source": [
    "# Change target-values into 0 (bad risk) and 1 (good rating) to make sure fairlearn-packages will work later on\n",
    "creditdata['Risk'][creditdata['Risk']=='bad']=0\n",
    "creditdata['Risk'][creditdata['Risk']=='good']=1\n",
    "creditdata.head(5)"
   ]
  },
  {
   "cell_type": "code",
   "execution_count": 23,
   "metadata": {},
   "outputs": [],
   "source": [
    "input_attributes = creditdata.iloc[:,0:20] # Split the data into input attributes and target attribute \n",
    "target_attribute = creditdata['Risk']\n",
    "\n",
    "cat_columns = [\"Sex\", \"Housing\", \"Saving accounts\", \"Checking account\", \"Purpose\", \"Job\", \"Age\"]\n",
    "num_columns = [\"Duration\", \"Credit amount\"]\n",
    "\n",
    "X = input_attributes[cat_columns + num_columns]\n",
    "\n",
    "# Split data into train and test set. Change target attribute into int, since now it is an object type which sklearn cannot recognize\n",
    "x_train, x_test, y_train, y_test = train_test_split(X, target_attribute.astype('int'), test_size=0.25, random_state=42)\n",
    "\n",
    "\n",
    "x_train.reset_index(drop=True, inplace=True) # Reset indices\n",
    "x_test.reset_index(drop=True, inplace=True)\n",
    "\n",
    "y_train.reset_index(drop=True, inplace=True)\n",
    "y_test.reset_index(drop=True, inplace=True)\n"
   ]
  },
  {
   "cell_type": "markdown",
   "metadata": {},
   "source": [
    "### Preprocessing: one-hot encoding the categorical attributes, scale the numerical features, and define sensitive features"
   ]
  },
  {
   "cell_type": "code",
   "execution_count": 24,
   "metadata": {},
   "outputs": [],
   "source": [
    "encoder = OneHotEncoder()\n",
    "scaler=MinMaxScaler()\n",
    "\n",
    "preprocessing = ColumnTransformer(\n",
    "    [\n",
    "        (\"categorical\", encoder, cat_columns),\n",
    "        (\"numerical\", scaler, num_columns)\n",
    "    ],\n",
    "    verbose_feature_names_out=False,\n",
    ")"
   ]
  },
  {
   "cell_type": "code",
   "execution_count": 25,
   "metadata": {},
   "outputs": [
    {
     "data": {
      "text/plain": [
       "1    209\n",
       "0     41\n",
       "Name: Age, dtype: int64"
      ]
     },
     "execution_count": 25,
     "metadata": {},
     "output_type": "execute_result"
    }
   ],
   "source": [
    "age = x_test['Age'] # Define sensitive features \n",
    "age.value_counts()"
   ]
  },
  {
   "cell_type": "markdown",
   "metadata": {},
   "source": [
    "### Logistic Regression"
   ]
  },
  {
   "cell_type": "code",
   "execution_count": 26,
   "metadata": {},
   "outputs": [
    {
     "data": {
      "text/html": [
       "<style>#sk-container-id-1 {color: black;background-color: white;}#sk-container-id-1 pre{padding: 0;}#sk-container-id-1 div.sk-toggleable {background-color: white;}#sk-container-id-1 label.sk-toggleable__label {cursor: pointer;display: block;width: 100%;margin-bottom: 0;padding: 0.3em;box-sizing: border-box;text-align: center;}#sk-container-id-1 label.sk-toggleable__label-arrow:before {content: \"▸\";float: left;margin-right: 0.25em;color: #696969;}#sk-container-id-1 label.sk-toggleable__label-arrow:hover:before {color: black;}#sk-container-id-1 div.sk-estimator:hover label.sk-toggleable__label-arrow:before {color: black;}#sk-container-id-1 div.sk-toggleable__content {max-height: 0;max-width: 0;overflow: hidden;text-align: left;background-color: #f0f8ff;}#sk-container-id-1 div.sk-toggleable__content pre {margin: 0.2em;color: black;border-radius: 0.25em;background-color: #f0f8ff;}#sk-container-id-1 input.sk-toggleable__control:checked~div.sk-toggleable__content {max-height: 200px;max-width: 100%;overflow: auto;}#sk-container-id-1 input.sk-toggleable__control:checked~label.sk-toggleable__label-arrow:before {content: \"▾\";}#sk-container-id-1 div.sk-estimator input.sk-toggleable__control:checked~label.sk-toggleable__label {background-color: #d4ebff;}#sk-container-id-1 div.sk-label input.sk-toggleable__control:checked~label.sk-toggleable__label {background-color: #d4ebff;}#sk-container-id-1 input.sk-hidden--visually {border: 0;clip: rect(1px 1px 1px 1px);clip: rect(1px, 1px, 1px, 1px);height: 1px;margin: -1px;overflow: hidden;padding: 0;position: absolute;width: 1px;}#sk-container-id-1 div.sk-estimator {font-family: monospace;background-color: #f0f8ff;border: 1px dotted black;border-radius: 0.25em;box-sizing: border-box;margin-bottom: 0.5em;}#sk-container-id-1 div.sk-estimator:hover {background-color: #d4ebff;}#sk-container-id-1 div.sk-parallel-item::after {content: \"\";width: 100%;border-bottom: 1px solid gray;flex-grow: 1;}#sk-container-id-1 div.sk-label:hover label.sk-toggleable__label {background-color: #d4ebff;}#sk-container-id-1 div.sk-serial::before {content: \"\";position: absolute;border-left: 1px solid gray;box-sizing: border-box;top: 0;bottom: 0;left: 50%;z-index: 0;}#sk-container-id-1 div.sk-serial {display: flex;flex-direction: column;align-items: center;background-color: white;padding-right: 0.2em;padding-left: 0.2em;position: relative;}#sk-container-id-1 div.sk-item {position: relative;z-index: 1;}#sk-container-id-1 div.sk-parallel {display: flex;align-items: stretch;justify-content: center;background-color: white;position: relative;}#sk-container-id-1 div.sk-item::before, #sk-container-id-1 div.sk-parallel-item::before {content: \"\";position: absolute;border-left: 1px solid gray;box-sizing: border-box;top: 0;bottom: 0;left: 50%;z-index: -1;}#sk-container-id-1 div.sk-parallel-item {display: flex;flex-direction: column;z-index: 1;position: relative;background-color: white;}#sk-container-id-1 div.sk-parallel-item:first-child::after {align-self: flex-end;width: 50%;}#sk-container-id-1 div.sk-parallel-item:last-child::after {align-self: flex-start;width: 50%;}#sk-container-id-1 div.sk-parallel-item:only-child::after {width: 0;}#sk-container-id-1 div.sk-dashed-wrapped {border: 1px dashed gray;margin: 0 0.4em 0.5em 0.4em;box-sizing: border-box;padding-bottom: 0.4em;background-color: white;}#sk-container-id-1 div.sk-label label {font-family: monospace;font-weight: bold;display: inline-block;line-height: 1.2em;}#sk-container-id-1 div.sk-label-container {text-align: center;}#sk-container-id-1 div.sk-container {/* jupyter's `normalize.less` sets `[hidden] { display: none; }` but bootstrap.min.css set `[hidden] { display: none !important; }` so we also need the `!important` here to be able to override the default hidden behavior on the sphinx rendered scikit-learn.org. See: https://github.com/scikit-learn/scikit-learn/issues/21755 */display: inline-block !important;position: relative;}#sk-container-id-1 div.sk-text-repr-fallback {display: none;}</style><div id=\"sk-container-id-1\" class=\"sk-top-container\"><div class=\"sk-text-repr-fallback\"><pre>Pipeline(steps=[(&#x27;preprocess&#x27;,\n",
       "                 ColumnTransformer(transformers=[(&#x27;categorical&#x27;,\n",
       "                                                  OneHotEncoder(),\n",
       "                                                  [&#x27;Sex&#x27;, &#x27;Housing&#x27;,\n",
       "                                                   &#x27;Saving accounts&#x27;,\n",
       "                                                   &#x27;Checking account&#x27;,\n",
       "                                                   &#x27;Purpose&#x27;, &#x27;Job&#x27;, &#x27;Age&#x27;]),\n",
       "                                                 (&#x27;numerical&#x27;, MinMaxScaler(),\n",
       "                                                  [&#x27;Duration&#x27;,\n",
       "                                                   &#x27;Credit amount&#x27;])],\n",
       "                                   verbose_feature_names_out=False)),\n",
       "                (&#x27;classifier&#x27;, LogisticRegression(C=0.1, random_state=42))])</pre><b>In a Jupyter environment, please rerun this cell to show the HTML representation or trust the notebook. <br />On GitHub, the HTML representation is unable to render, please try loading this page with nbviewer.org.</b></div><div class=\"sk-container\" hidden><div class=\"sk-item sk-dashed-wrapped\"><div class=\"sk-label-container\"><div class=\"sk-label sk-toggleable\"><input class=\"sk-toggleable__control sk-hidden--visually\" id=\"sk-estimator-id-1\" type=\"checkbox\" ><label for=\"sk-estimator-id-1\" class=\"sk-toggleable__label sk-toggleable__label-arrow\">Pipeline</label><div class=\"sk-toggleable__content\"><pre>Pipeline(steps=[(&#x27;preprocess&#x27;,\n",
       "                 ColumnTransformer(transformers=[(&#x27;categorical&#x27;,\n",
       "                                                  OneHotEncoder(),\n",
       "                                                  [&#x27;Sex&#x27;, &#x27;Housing&#x27;,\n",
       "                                                   &#x27;Saving accounts&#x27;,\n",
       "                                                   &#x27;Checking account&#x27;,\n",
       "                                                   &#x27;Purpose&#x27;, &#x27;Job&#x27;, &#x27;Age&#x27;]),\n",
       "                                                 (&#x27;numerical&#x27;, MinMaxScaler(),\n",
       "                                                  [&#x27;Duration&#x27;,\n",
       "                                                   &#x27;Credit amount&#x27;])],\n",
       "                                   verbose_feature_names_out=False)),\n",
       "                (&#x27;classifier&#x27;, LogisticRegression(C=0.1, random_state=42))])</pre></div></div></div><div class=\"sk-serial\"><div class=\"sk-item sk-dashed-wrapped\"><div class=\"sk-label-container\"><div class=\"sk-label sk-toggleable\"><input class=\"sk-toggleable__control sk-hidden--visually\" id=\"sk-estimator-id-2\" type=\"checkbox\" ><label for=\"sk-estimator-id-2\" class=\"sk-toggleable__label sk-toggleable__label-arrow\">preprocess: ColumnTransformer</label><div class=\"sk-toggleable__content\"><pre>ColumnTransformer(transformers=[(&#x27;categorical&#x27;, OneHotEncoder(),\n",
       "                                 [&#x27;Sex&#x27;, &#x27;Housing&#x27;, &#x27;Saving accounts&#x27;,\n",
       "                                  &#x27;Checking account&#x27;, &#x27;Purpose&#x27;, &#x27;Job&#x27;,\n",
       "                                  &#x27;Age&#x27;]),\n",
       "                                (&#x27;numerical&#x27;, MinMaxScaler(),\n",
       "                                 [&#x27;Duration&#x27;, &#x27;Credit amount&#x27;])],\n",
       "                  verbose_feature_names_out=False)</pre></div></div></div><div class=\"sk-parallel\"><div class=\"sk-parallel-item\"><div class=\"sk-item\"><div class=\"sk-label-container\"><div class=\"sk-label sk-toggleable\"><input class=\"sk-toggleable__control sk-hidden--visually\" id=\"sk-estimator-id-3\" type=\"checkbox\" ><label for=\"sk-estimator-id-3\" class=\"sk-toggleable__label sk-toggleable__label-arrow\">categorical</label><div class=\"sk-toggleable__content\"><pre>[&#x27;Sex&#x27;, &#x27;Housing&#x27;, &#x27;Saving accounts&#x27;, &#x27;Checking account&#x27;, &#x27;Purpose&#x27;, &#x27;Job&#x27;, &#x27;Age&#x27;]</pre></div></div></div><div class=\"sk-serial\"><div class=\"sk-item\"><div class=\"sk-estimator sk-toggleable\"><input class=\"sk-toggleable__control sk-hidden--visually\" id=\"sk-estimator-id-4\" type=\"checkbox\" ><label for=\"sk-estimator-id-4\" class=\"sk-toggleable__label sk-toggleable__label-arrow\">OneHotEncoder</label><div class=\"sk-toggleable__content\"><pre>OneHotEncoder()</pre></div></div></div></div></div></div><div class=\"sk-parallel-item\"><div class=\"sk-item\"><div class=\"sk-label-container\"><div class=\"sk-label sk-toggleable\"><input class=\"sk-toggleable__control sk-hidden--visually\" id=\"sk-estimator-id-5\" type=\"checkbox\" ><label for=\"sk-estimator-id-5\" class=\"sk-toggleable__label sk-toggleable__label-arrow\">numerical</label><div class=\"sk-toggleable__content\"><pre>[&#x27;Duration&#x27;, &#x27;Credit amount&#x27;]</pre></div></div></div><div class=\"sk-serial\"><div class=\"sk-item\"><div class=\"sk-estimator sk-toggleable\"><input class=\"sk-toggleable__control sk-hidden--visually\" id=\"sk-estimator-id-6\" type=\"checkbox\" ><label for=\"sk-estimator-id-6\" class=\"sk-toggleable__label sk-toggleable__label-arrow\">MinMaxScaler</label><div class=\"sk-toggleable__content\"><pre>MinMaxScaler()</pre></div></div></div></div></div></div></div></div><div class=\"sk-item\"><div class=\"sk-estimator sk-toggleable\"><input class=\"sk-toggleable__control sk-hidden--visually\" id=\"sk-estimator-id-7\" type=\"checkbox\" ><label for=\"sk-estimator-id-7\" class=\"sk-toggleable__label sk-toggleable__label-arrow\">LogisticRegression</label><div class=\"sk-toggleable__content\"><pre>LogisticRegression(C=0.1, random_state=42)</pre></div></div></div></div></div></div></div>"
      ],
      "text/plain": [
       "Pipeline(steps=[('preprocess',\n",
       "                 ColumnTransformer(transformers=[('categorical',\n",
       "                                                  OneHotEncoder(),\n",
       "                                                  ['Sex', 'Housing',\n",
       "                                                   'Saving accounts',\n",
       "                                                   'Checking account',\n",
       "                                                   'Purpose', 'Job', 'Age']),\n",
       "                                                 ('numerical', MinMaxScaler(),\n",
       "                                                  ['Duration',\n",
       "                                                   'Credit amount'])],\n",
       "                                   verbose_feature_names_out=False)),\n",
       "                ('classifier', LogisticRegression(C=0.1, random_state=42))])"
      ]
     },
     "execution_count": 26,
     "metadata": {},
     "output_type": "execute_result"
    }
   ],
   "source": [
    "unmitigated_lr = Pipeline(\n",
    "    [\n",
    "        (\"preprocess\", preprocessing),\n",
    "        (\"classifier\", LogisticRegression(C=0.1,random_state=42)),\n",
    "    ]\n",
    ")\n",
    "unmitigated_lr.fit(x_train, y_train)"
   ]
  },
  {
   "cell_type": "code",
   "execution_count": 27,
   "metadata": {},
   "outputs": [
    {
     "name": "stdout",
     "output_type": "stream",
     "text": [
      "LR train accuracy: 0.745\n",
      "LR test accuracy: 0.724\n"
     ]
    }
   ],
   "source": [
    "print(f\"LR train accuracy: {unmitigated_lr.score(x_train, y_train):.3f}\")\n",
    "print(f\"LR test accuracy: {unmitigated_lr.score(x_test, y_test):.3f}\")"
   ]
  },
  {
   "cell_type": "code",
   "execution_count": 28,
   "metadata": {},
   "outputs": [
    {
     "name": "stdout",
     "output_type": "stream",
     "text": [
      "              precision    recall  f1-score   support\n",
      "\n",
      "           0       0.55      0.24      0.33        72\n",
      "           1       0.75      0.92      0.83       178\n",
      "\n",
      "    accuracy                           0.72       250\n",
      "   macro avg       0.65      0.58      0.58       250\n",
      "weighted avg       0.69      0.72      0.68       250\n",
      "\n",
      "[[ 17  55]\n",
      " [ 14 164]]\n"
     ]
    }
   ],
   "source": [
    "predictions_lr = unmitigated_lr.predict(x_test)\n",
    "predictions_lr\n",
    "\n",
    "print(skmetrics.classification_report(y_test, predictions_lr)) \n",
    "\n",
    "conf_matrix = skmetrics.confusion_matrix(y_test, predictions_lr)\n",
    "print(conf_matrix)"
   ]
  },
  {
   "cell_type": "code",
   "execution_count": 29,
   "metadata": {},
   "outputs": [
    {
     "name": "stdout",
     "output_type": "stream",
     "text": [
      "Metrics by group: \n"
     ]
    },
    {
     "data": {
      "text/html": [
       "<div>\n",
       "<style scoped>\n",
       "    .dataframe tbody tr th:only-of-type {\n",
       "        vertical-align: middle;\n",
       "    }\n",
       "\n",
       "    .dataframe tbody tr th {\n",
       "        vertical-align: top;\n",
       "    }\n",
       "\n",
       "    .dataframe thead th {\n",
       "        text-align: right;\n",
       "    }\n",
       "</style>\n",
       "<table border=\"1\" class=\"dataframe\">\n",
       "  <thead>\n",
       "    <tr style=\"text-align: right;\">\n",
       "      <th></th>\n",
       "      <th>accuracy</th>\n",
       "      <th>selection rate</th>\n",
       "      <th>mean prediction</th>\n",
       "      <th>false positive rate</th>\n",
       "      <th>false negative rate</th>\n",
       "      <th>count</th>\n",
       "    </tr>\n",
       "    <tr>\n",
       "      <th>Age</th>\n",
       "      <th></th>\n",
       "      <th></th>\n",
       "      <th></th>\n",
       "      <th></th>\n",
       "      <th></th>\n",
       "      <th></th>\n",
       "    </tr>\n",
       "  </thead>\n",
       "  <tbody>\n",
       "    <tr>\n",
       "      <th>0</th>\n",
       "      <td>0.634146</td>\n",
       "      <td>0.682927</td>\n",
       "      <td>0.682927</td>\n",
       "      <td>0.571429</td>\n",
       "      <td>0.259259</td>\n",
       "      <td>41.0</td>\n",
       "    </tr>\n",
       "    <tr>\n",
       "      <th>1</th>\n",
       "      <td>0.741627</td>\n",
       "      <td>0.913876</td>\n",
       "      <td>0.913876</td>\n",
       "      <td>0.810345</td>\n",
       "      <td>0.046358</td>\n",
       "      <td>209.0</td>\n",
       "    </tr>\n",
       "  </tbody>\n",
       "</table>\n",
       "</div>"
      ],
      "text/plain": [
       "     accuracy  selection rate  mean prediction  false positive rate  \\\n",
       "Age                                                                   \n",
       "0    0.634146        0.682927         0.682927             0.571429   \n",
       "1    0.741627        0.913876         0.913876             0.810345   \n",
       "\n",
       "     false negative rate  count  \n",
       "Age                              \n",
       "0               0.259259   41.0  \n",
       "1               0.046358  209.0  "
      ]
     },
     "execution_count": 29,
     "metadata": {},
     "output_type": "execute_result"
    }
   ],
   "source": [
    "# Show metrics per group\n",
    "metrics = {\"accuracy\":accuracy_score, \"selection rate\": selection_rate, \"mean prediction\": mean_prediction,\n",
    "           \"false positive rate\": false_positive_rate, \"false negative rate\": false_negative_rate, \"count\": count}\n",
    "mf_lr = MetricFrame(\n",
    "    metrics=metrics,\n",
    "    y_true=y_test,\n",
    "    y_pred=predictions_lr,\n",
    "    sensitive_features=age)\n",
    "\n",
    "print(\"Metrics by group: \") \n",
    "mf_lr.by_group"
   ]
  },
  {
   "cell_type": "code",
   "execution_count": 30,
   "metadata": {},
   "outputs": [
    {
     "data": {
      "text/plain": [
       "array([[<AxesSubplot:title={'center':'accuracy'}, xlabel='Age'>,\n",
       "        <AxesSubplot:title={'center':'selection rate'}, xlabel='Age'>,\n",
       "        <AxesSubplot:title={'center':'mean prediction'}, xlabel='Age'>],\n",
       "       [<AxesSubplot:title={'center':'false positive rate'}, xlabel='Age'>,\n",
       "        <AxesSubplot:title={'center':'false negative rate'}, xlabel='Age'>,\n",
       "        <AxesSubplot:title={'center':'count'}, xlabel='Age'>],\n",
       "       [<AxesSubplot:xlabel='Age'>, <AxesSubplot:xlabel='Age'>,\n",
       "        <AxesSubplot:xlabel='Age'>]], dtype=object)"
      ]
     },
     "execution_count": 30,
     "metadata": {},
     "output_type": "execute_result"
    },
    {
     "data": {
      "image/png": "[encoded data removed]",
      "text/plain": [
       "<Figure size 864x576 with 9 Axes>"
      ]
     },
     "metadata": {
      "needs_background": "light"
     },
     "output_type": "display_data"
    }
   ],
   "source": [
    "# Plot metrics by group\n",
    "mf_lr.by_group.plot.bar(\n",
    "    subplots=True,\n",
    "    layout=[3, 3],\n",
    "    legend=False,\n",
    "    figsize=[12, 8],\n",
    "    title=\"Fairness metrics of logistic regression model\",\n",
    ")"
   ]
  },
  {
   "cell_type": "markdown",
   "metadata": {},
   "source": [
    "### Investigate feature importance "
   ]
  },
  {
   "cell_type": "code",
   "execution_count": 37,
   "metadata": {
    "scrolled": true
   },
   "outputs": [
    {
     "name": "stdout",
     "output_type": "stream",
     "text": [
      "           Importance                      Feature\n",
      "13     (0.244, 0.765]         Checking account_nan\n",
      "19     (0.244, 0.765]             Purpose_radio/TV\n",
      "3      (0.244, 0.765]                  Housing_own\n",
      "8      (0.164, 0.244]         Saving accounts_rich\n",
      "12     (0.164, 0.244]        Checking account_rich\n",
      "27     (0.164, 0.244]                        Age_1\n",
      "9      (0.153, 0.164]          Saving accounts_nan\n",
      "1      (0.153, 0.164]                     Sex_male\n",
      "18    (0.0867, 0.153]  Purpose_furniture/equipment\n",
      "23    (0.0867, 0.153]                        Job_1\n",
      "7     (0.0867, 0.153]   Saving accounts_quite rich\n",
      "22   (-0.036, 0.0867]                        Job_0\n",
      "21   (-0.036, 0.0867]      Purpose_vacation/others\n",
      "24   (-0.036, 0.0867]                        Job_2\n",
      "15  (-0.0423, -0.036]                  Purpose_car\n",
      "20  (-0.0423, -0.036]              Purpose_repairs\n",
      "16  (-0.113, -0.0423]  Purpose_domestic appliances\n",
      "4   (-0.113, -0.0423]                 Housing_rent\n",
      "14  (-0.113, -0.0423]             Purpose_business\n",
      "25   (-0.166, -0.113]                        Job_3\n",
      "0    (-0.166, -0.113]                   Sex_female\n",
      "6    (-0.166, -0.113]     Saving accounts_moderate\n",
      "26   (-0.212, -0.166]                        Age_0\n",
      "2    (-0.212, -0.166]                 Housing_free\n",
      "17   (-0.337, -0.212]            Purpose_education\n",
      "5    (-0.337, -0.212]       Saving accounts_little\n",
      "11   (-0.337, -0.212]    Checking account_moderate\n",
      "29   (-0.661, -0.337]                Credit amount\n",
      "10   (-0.661, -0.337]      Checking account_little\n",
      "28   (-0.661, -0.337]                     Duration\n"
     ]
    }
   ],
   "source": [
    "featureimportance = pd.DataFrame(data={\n",
    "                                'Feature': preprocessing.get_feature_names_out(),\n",
    "                                 'Importance': unmitigated_lr['classifier'].coef_[0]})\n",
    "featureimportance = featureimportance.sort_values(by='Importance', ascending=False) # Sorted dataframe of all features and their coefficients\n",
    "\n",
    "pd.qcut(featureimportance['Importance'], q=11) #Divide all features up into 11 buckets (+++++ to -----)\n",
    "binned = pd.qcut(featureimportance['Importance'], q=11)\n",
    "binned_df = pd.DataFrame(binned)\n",
    "\n",
    "binned_df['Feature'] = featureimportance['Feature']\n",
    "print(binned_df)"
   ]
  },
  {
   "cell_type": "code",
   "execution_count": 34,
   "metadata": {},
   "outputs": [
    {
     "data": {
      "image/png": "[encoded data removed]",
      "text/plain": [
       "<Figure size 1296x504 with 1 Axes>"
      ]
     },
     "metadata": {
      "needs_background": "light"
     },
     "output_type": "display_data"
    }
   ],
   "source": [
    "# Plot of all features and their belonging coefficients \n",
    "plt.figure(figsize=(18,7))\n",
    "plt.bar(x=featureimportance['Feature'], height=featureimportance['Importance'], color='purple')\n",
    "plt.title('Feature importances obtained from coefficients', size=20)\n",
    "plt.xticks(rotation='vertical')\n",
    "plt.show()"
   ]
  },
  {
   "cell_type": "markdown",
   "metadata": {},
   "source": [
    "### Bias mitigation "
   ]
  },
  {
   "cell_type": "code",
   "execution_count": 38,
   "metadata": {},
   "outputs": [
    {
     "data": {
      "text/html": [
       "<style>#sk-container-id-2 {color: black;background-color: white;}#sk-container-id-2 pre{padding: 0;}#sk-container-id-2 div.sk-toggleable {background-color: white;}#sk-container-id-2 label.sk-toggleable__label {cursor: pointer;display: block;width: 100%;margin-bottom: 0;padding: 0.3em;box-sizing: border-box;text-align: center;}#sk-container-id-2 label.sk-toggleable__label-arrow:before {content: \"▸\";float: left;margin-right: 0.25em;color: #696969;}#sk-container-id-2 label.sk-toggleable__label-arrow:hover:before {color: black;}#sk-container-id-2 div.sk-estimator:hover label.sk-toggleable__label-arrow:before {color: black;}#sk-container-id-2 div.sk-toggleable__content {max-height: 0;max-width: 0;overflow: hidden;text-align: left;background-color: #f0f8ff;}#sk-container-id-2 div.sk-toggleable__content pre {margin: 0.2em;color: black;border-radius: 0.25em;background-color: #f0f8ff;}#sk-container-id-2 input.sk-toggleable__control:checked~div.sk-toggleable__content {max-height: 200px;max-width: 100%;overflow: auto;}#sk-container-id-2 input.sk-toggleable__control:checked~label.sk-toggleable__label-arrow:before {content: \"▾\";}#sk-container-id-2 div.sk-estimator input.sk-toggleable__control:checked~label.sk-toggleable__label {background-color: #d4ebff;}#sk-container-id-2 div.sk-label input.sk-toggleable__control:checked~label.sk-toggleable__label {background-color: #d4ebff;}#sk-container-id-2 input.sk-hidden--visually {border: 0;clip: rect(1px 1px 1px 1px);clip: rect(1px, 1px, 1px, 1px);height: 1px;margin: -1px;overflow: hidden;padding: 0;position: absolute;width: 1px;}#sk-container-id-2 div.sk-estimator {font-family: monospace;background-color: #f0f8ff;border: 1px dotted black;border-radius: 0.25em;box-sizing: border-box;margin-bottom: 0.5em;}#sk-container-id-2 div.sk-estimator:hover {background-color: #d4ebff;}#sk-container-id-2 div.sk-parallel-item::after {content: \"\";width: 100%;border-bottom: 1px solid gray;flex-grow: 1;}#sk-container-id-2 div.sk-label:hover label.sk-toggleable__label {background-color: #d4ebff;}#sk-container-id-2 div.sk-serial::before {content: \"\";position: absolute;border-left: 1px solid gray;box-sizing: border-box;top: 0;bottom: 0;left: 50%;z-index: 0;}#sk-container-id-2 div.sk-serial {display: flex;flex-direction: column;align-items: center;background-color: white;padding-right: 0.2em;padding-left: 0.2em;position: relative;}#sk-container-id-2 div.sk-item {position: relative;z-index: 1;}#sk-container-id-2 div.sk-parallel {display: flex;align-items: stretch;justify-content: center;background-color: white;position: relative;}#sk-container-id-2 div.sk-item::before, #sk-container-id-2 div.sk-parallel-item::before {content: \"\";position: absolute;border-left: 1px solid gray;box-sizing: border-box;top: 0;bottom: 0;left: 50%;z-index: -1;}#sk-container-id-2 div.sk-parallel-item {display: flex;flex-direction: column;z-index: 1;position: relative;background-color: white;}#sk-container-id-2 div.sk-parallel-item:first-child::after {align-self: flex-end;width: 50%;}#sk-container-id-2 div.sk-parallel-item:last-child::after {align-self: flex-start;width: 50%;}#sk-container-id-2 div.sk-parallel-item:only-child::after {width: 0;}#sk-container-id-2 div.sk-dashed-wrapped {border: 1px dashed gray;margin: 0 0.4em 0.5em 0.4em;box-sizing: border-box;padding-bottom: 0.4em;background-color: white;}#sk-container-id-2 div.sk-label label {font-family: monospace;font-weight: bold;display: inline-block;line-height: 1.2em;}#sk-container-id-2 div.sk-label-container {text-align: center;}#sk-container-id-2 div.sk-container {/* jupyter's `normalize.less` sets `[hidden] { display: none; }` but bootstrap.min.css set `[hidden] { display: none !important; }` so we also need the `!important` here to be able to override the default hidden behavior on the sphinx rendered scikit-learn.org. See: https://github.com/scikit-learn/scikit-learn/issues/21755 */display: inline-block !important;position: relative;}#sk-container-id-2 div.sk-text-repr-fallback {display: none;}</style><div id=\"sk-container-id-2\" class=\"sk-top-container\"><div class=\"sk-text-repr-fallback\"><pre>ThresholdOptimizer(estimator=Pipeline(steps=[(&#x27;preprocess&#x27;,\n",
       "                                              ColumnTransformer(transformers=[(&#x27;categorical&#x27;,\n",
       "                                                                               OneHotEncoder(),\n",
       "                                                                               [&#x27;Sex&#x27;,\n",
       "                                                                                &#x27;Housing&#x27;,\n",
       "                                                                                &#x27;Saving &#x27;\n",
       "                                                                                &#x27;accounts&#x27;,\n",
       "                                                                                &#x27;Checking &#x27;\n",
       "                                                                                &#x27;account&#x27;,\n",
       "                                                                                &#x27;Purpose&#x27;,\n",
       "                                                                                &#x27;Job&#x27;,\n",
       "                                                                                &#x27;Age&#x27;]),\n",
       "                                                                              (&#x27;numerical&#x27;,\n",
       "                                                                               MinMaxScaler(),\n",
       "                                                                               [&#x27;Duration&#x27;,\n",
       "                                                                                &#x27;Credit &#x27;\n",
       "                                                                                &#x27;amount&#x27;])],\n",
       "                                                                verbose_feature_names_out=False)),\n",
       "                                             (&#x27;classifier&#x27;,\n",
       "                                              LogisticRegression(C=0.1,\n",
       "                                                                 random_state=42))]),\n",
       "                   predict_method=&#x27;predict_proba&#x27;, prefit=True)</pre><b>In a Jupyter environment, please rerun this cell to show the HTML representation or trust the notebook. <br />On GitHub, the HTML representation is unable to render, please try loading this page with nbviewer.org.</b></div><div class=\"sk-container\" hidden><div class=\"sk-item sk-dashed-wrapped\"><div class=\"sk-label-container\"><div class=\"sk-label sk-toggleable\"><input class=\"sk-toggleable__control sk-hidden--visually\" id=\"sk-estimator-id-8\" type=\"checkbox\" ><label for=\"sk-estimator-id-8\" class=\"sk-toggleable__label sk-toggleable__label-arrow\">ThresholdOptimizer</label><div class=\"sk-toggleable__content\"><pre>ThresholdOptimizer(estimator=Pipeline(steps=[(&#x27;preprocess&#x27;,\n",
       "                                              ColumnTransformer(transformers=[(&#x27;categorical&#x27;,\n",
       "                                                                               OneHotEncoder(),\n",
       "                                                                               [&#x27;Sex&#x27;,\n",
       "                                                                                &#x27;Housing&#x27;,\n",
       "                                                                                &#x27;Saving &#x27;\n",
       "                                                                                &#x27;accounts&#x27;,\n",
       "                                                                                &#x27;Checking &#x27;\n",
       "                                                                                &#x27;account&#x27;,\n",
       "                                                                                &#x27;Purpose&#x27;,\n",
       "                                                                                &#x27;Job&#x27;,\n",
       "                                                                                &#x27;Age&#x27;]),\n",
       "                                                                              (&#x27;numerical&#x27;,\n",
       "                                                                               MinMaxScaler(),\n",
       "                                                                               [&#x27;Duration&#x27;,\n",
       "                                                                                &#x27;Credit &#x27;\n",
       "                                                                                &#x27;amount&#x27;])],\n",
       "                                                                verbose_feature_names_out=False)),\n",
       "                                             (&#x27;classifier&#x27;,\n",
       "                                              LogisticRegression(C=0.1,\n",
       "                                                                 random_state=42))]),\n",
       "                   predict_method=&#x27;predict_proba&#x27;, prefit=True)</pre></div></div></div><div class=\"sk-parallel\"><div class=\"sk-parallel-item\"><div class=\"sk-item\"><div class=\"sk-label-container\"><div class=\"sk-label sk-toggleable\"><input class=\"sk-toggleable__control sk-hidden--visually\" id=\"sk-estimator-id-9\" type=\"checkbox\" ><label for=\"sk-estimator-id-9\" class=\"sk-toggleable__label sk-toggleable__label-arrow\">estimator: Pipeline</label><div class=\"sk-toggleable__content\"><pre>Pipeline(steps=[(&#x27;preprocess&#x27;,\n",
       "                 ColumnTransformer(transformers=[(&#x27;categorical&#x27;,\n",
       "                                                  OneHotEncoder(),\n",
       "                                                  [&#x27;Sex&#x27;, &#x27;Housing&#x27;,\n",
       "                                                   &#x27;Saving accounts&#x27;,\n",
       "                                                   &#x27;Checking account&#x27;,\n",
       "                                                   &#x27;Purpose&#x27;, &#x27;Job&#x27;, &#x27;Age&#x27;]),\n",
       "                                                 (&#x27;numerical&#x27;, MinMaxScaler(),\n",
       "                                                  [&#x27;Duration&#x27;,\n",
       "                                                   &#x27;Credit amount&#x27;])],\n",
       "                                   verbose_feature_names_out=False)),\n",
       "                (&#x27;classifier&#x27;, LogisticRegression(C=0.1, random_state=42))])</pre></div></div></div><div class=\"sk-serial\"><div class=\"sk-item\"><div class=\"sk-serial\"><div class=\"sk-item sk-dashed-wrapped\"><div class=\"sk-label-container\"><div class=\"sk-label sk-toggleable\"><input class=\"sk-toggleable__control sk-hidden--visually\" id=\"sk-estimator-id-10\" type=\"checkbox\" ><label for=\"sk-estimator-id-10\" class=\"sk-toggleable__label sk-toggleable__label-arrow\">preprocess: ColumnTransformer</label><div class=\"sk-toggleable__content\"><pre>ColumnTransformer(transformers=[(&#x27;categorical&#x27;, OneHotEncoder(),\n",
       "                                 [&#x27;Sex&#x27;, &#x27;Housing&#x27;, &#x27;Saving accounts&#x27;,\n",
       "                                  &#x27;Checking account&#x27;, &#x27;Purpose&#x27;, &#x27;Job&#x27;,\n",
       "                                  &#x27;Age&#x27;]),\n",
       "                                (&#x27;numerical&#x27;, MinMaxScaler(),\n",
       "                                 [&#x27;Duration&#x27;, &#x27;Credit amount&#x27;])],\n",
       "                  verbose_feature_names_out=False)</pre></div></div></div><div class=\"sk-parallel\"><div class=\"sk-parallel-item\"><div class=\"sk-item\"><div class=\"sk-label-container\"><div class=\"sk-label sk-toggleable\"><input class=\"sk-toggleable__control sk-hidden--visually\" id=\"sk-estimator-id-11\" type=\"checkbox\" ><label for=\"sk-estimator-id-11\" class=\"sk-toggleable__label sk-toggleable__label-arrow\">categorical</label><div class=\"sk-toggleable__content\"><pre>[&#x27;Sex&#x27;, &#x27;Housing&#x27;, &#x27;Saving accounts&#x27;, &#x27;Checking account&#x27;, &#x27;Purpose&#x27;, &#x27;Job&#x27;, &#x27;Age&#x27;]</pre></div></div></div><div class=\"sk-serial\"><div class=\"sk-item\"><div class=\"sk-estimator sk-toggleable\"><input class=\"sk-toggleable__control sk-hidden--visually\" id=\"sk-estimator-id-12\" type=\"checkbox\" ><label for=\"sk-estimator-id-12\" class=\"sk-toggleable__label sk-toggleable__label-arrow\">OneHotEncoder</label><div class=\"sk-toggleable__content\"><pre>OneHotEncoder()</pre></div></div></div></div></div></div><div class=\"sk-parallel-item\"><div class=\"sk-item\"><div class=\"sk-label-container\"><div class=\"sk-label sk-toggleable\"><input class=\"sk-toggleable__control sk-hidden--visually\" id=\"sk-estimator-id-13\" type=\"checkbox\" ><label for=\"sk-estimator-id-13\" class=\"sk-toggleable__label sk-toggleable__label-arrow\">numerical</label><div class=\"sk-toggleable__content\"><pre>[&#x27;Duration&#x27;, &#x27;Credit amount&#x27;]</pre></div></div></div><div class=\"sk-serial\"><div class=\"sk-item\"><div class=\"sk-estimator sk-toggleable\"><input class=\"sk-toggleable__control sk-hidden--visually\" id=\"sk-estimator-id-14\" type=\"checkbox\" ><label for=\"sk-estimator-id-14\" class=\"sk-toggleable__label sk-toggleable__label-arrow\">MinMaxScaler</label><div class=\"sk-toggleable__content\"><pre>MinMaxScaler()</pre></div></div></div></div></div></div></div></div><div class=\"sk-item\"><div class=\"sk-estimator sk-toggleable\"><input class=\"sk-toggleable__control sk-hidden--visually\" id=\"sk-estimator-id-15\" type=\"checkbox\" ><label for=\"sk-estimator-id-15\" class=\"sk-toggleable__label sk-toggleable__label-arrow\">LogisticRegression</label><div class=\"sk-toggleable__content\"><pre>LogisticRegression(C=0.1, random_state=42)</pre></div></div></div></div></div></div></div></div></div></div></div></div>"
      ],
      "text/plain": [
       "ThresholdOptimizer(estimator=Pipeline(steps=[('preprocess',\n",
       "                                              ColumnTransformer(transformers=[('categorical',\n",
       "                                                                               OneHotEncoder(),\n",
       "                                                                               ['Sex',\n",
       "                                                                                'Housing',\n",
       "                                                                                'Saving '\n",
       "                                                                                'accounts',\n",
       "                                                                                'Checking '\n",
       "                                                                                'account',\n",
       "                                                                                'Purpose',\n",
       "                                                                                'Job',\n",
       "                                                                                'Age']),\n",
       "                                                                              ('numerical',\n",
       "                                                                               MinMaxScaler(),\n",
       "                                                                               ['Duration',\n",
       "                                                                                'Credit '\n",
       "                                                                                'amount'])],\n",
       "                                                                verbose_feature_names_out=False)),\n",
       "                                             ('classifier',\n",
       "                                              LogisticRegression(C=0.1,\n",
       "                                                                 random_state=42))]),\n",
       "                   predict_method='predict_proba', prefit=True)"
      ]
     },
     "execution_count": 38,
     "metadata": {},
     "output_type": "execute_result"
    }
   ],
   "source": [
    "# Postprocessing for demographic parity \n",
    "\n",
    "postprocess = ThresholdOptimizer(estimator=unmitigated_lr, constraints=\"demographic_parity\", \n",
    "                                     objective=\"accuracy_score\",prefit=True,predict_method='predict_proba')\n",
    "\n",
    "postprocess.fit(x_train, y_train, sensitive_features = x_train['Age'])"
   ]
  },
  {
   "cell_type": "code",
   "execution_count": 39,
   "metadata": {},
   "outputs": [
    {
     "name": "stdout",
     "output_type": "stream",
     "text": [
      "              precision    recall  f1-score   support\n",
      "\n",
      "           0       0.53      0.33      0.41        72\n",
      "           1       0.77      0.88      0.82       178\n",
      "\n",
      "    accuracy                           0.72       250\n",
      "   macro avg       0.65      0.61      0.62       250\n",
      "weighted avg       0.70      0.72      0.70       250\n",
      "\n",
      "\n",
      "[[ 24  48]\n",
      " [ 21 157]]\n"
     ]
    }
   ],
   "source": [
    "predictions_lr_postpr = postprocess.predict(x_test, sensitive_features=age)\n",
    "\n",
    "print(skmetrics.classification_report(y_test, predictions_lr_postpr)) \n",
    "print()\n",
    "conf_matrix = skmetrics.confusion_matrix(y_test, predictions_lr_postpr)\n",
    "print(conf_matrix)"
   ]
  },
  {
   "cell_type": "code",
   "execution_count": 40,
   "metadata": {},
   "outputs": [
    {
     "name": "stdout",
     "output_type": "stream",
     "text": [
      "Metrics by group: \n"
     ]
    },
    {
     "data": {
      "text/html": [
       "<div>\n",
       "<style scoped>\n",
       "    .dataframe tbody tr th:only-of-type {\n",
       "        vertical-align: middle;\n",
       "    }\n",
       "\n",
       "    .dataframe tbody tr th {\n",
       "        vertical-align: top;\n",
       "    }\n",
       "\n",
       "    .dataframe thead th {\n",
       "        text-align: right;\n",
       "    }\n",
       "</style>\n",
       "<table border=\"1\" class=\"dataframe\">\n",
       "  <thead>\n",
       "    <tr style=\"text-align: right;\">\n",
       "      <th></th>\n",
       "      <th>accuracy</th>\n",
       "      <th>selection rate</th>\n",
       "      <th>mean prediction</th>\n",
       "      <th>false positive rate</th>\n",
       "      <th>false negative rate</th>\n",
       "      <th>count</th>\n",
       "    </tr>\n",
       "    <tr>\n",
       "      <th>Age</th>\n",
       "      <th></th>\n",
       "      <th></th>\n",
       "      <th></th>\n",
       "      <th></th>\n",
       "      <th></th>\n",
       "      <th></th>\n",
       "    </tr>\n",
       "  </thead>\n",
       "  <tbody>\n",
       "    <tr>\n",
       "      <th>0</th>\n",
       "      <td>0.658537</td>\n",
       "      <td>0.804878</td>\n",
       "      <td>0.804878</td>\n",
       "      <td>0.714286</td>\n",
       "      <td>0.148148</td>\n",
       "      <td>41.0</td>\n",
       "    </tr>\n",
       "    <tr>\n",
       "      <th>1</th>\n",
       "      <td>0.736842</td>\n",
       "      <td>0.822967</td>\n",
       "      <td>0.822967</td>\n",
       "      <td>0.655172</td>\n",
       "      <td>0.112583</td>\n",
       "      <td>209.0</td>\n",
       "    </tr>\n",
       "  </tbody>\n",
       "</table>\n",
       "</div>"
      ],
      "text/plain": [
       "     accuracy  selection rate  mean prediction  false positive rate  \\\n",
       "Age                                                                   \n",
       "0    0.658537        0.804878         0.804878             0.714286   \n",
       "1    0.736842        0.822967         0.822967             0.655172   \n",
       "\n",
       "     false negative rate  count  \n",
       "Age                              \n",
       "0               0.148148   41.0  \n",
       "1               0.112583  209.0  "
      ]
     },
     "execution_count": 40,
     "metadata": {},
     "output_type": "execute_result"
    }
   ],
   "source": [
    "# Show metrics by group after mitigation\n",
    "mf_lr_postpr = MetricFrame(\n",
    "    metrics=metrics,\n",
    "    y_true=y_test,\n",
    "    y_pred=predictions_lr_postpr,\n",
    "    sensitive_features=age)\n",
    "\n",
    "print(\"Metrics by group: \") \n",
    "mf_lr_postpr.by_group"
   ]
  },
  {
   "cell_type": "code",
   "execution_count": 41,
   "metadata": {},
   "outputs": [
    {
     "data": {
      "text/plain": [
       "array([[<AxesSubplot:title={'center':'accuracy'}, xlabel='Age'>,\n",
       "        <AxesSubplot:title={'center':'selection rate'}, xlabel='Age'>,\n",
       "        <AxesSubplot:title={'center':'mean prediction'}, xlabel='Age'>],\n",
       "       [<AxesSubplot:title={'center':'false positive rate'}, xlabel='Age'>,\n",
       "        <AxesSubplot:title={'center':'false negative rate'}, xlabel='Age'>,\n",
       "        <AxesSubplot:title={'center':'count'}, xlabel='Age'>],\n",
       "       [<AxesSubplot:xlabel='Age'>, <AxesSubplot:xlabel='Age'>,\n",
       "        <AxesSubplot:xlabel='Age'>]], dtype=object)"
      ]
     },
     "execution_count": 41,
     "metadata": {},
     "output_type": "execute_result"
    },
    {
     "data": {
      "image/png": "[encoded data removed]",
      "text/plain": [
       "<Figure size 864x576 with 9 Axes>"
      ]
     },
     "metadata": {
      "needs_background": "light"
     },
     "output_type": "display_data"
    }
   ],
   "source": [
    "# Plot metrics by group after mitigation \n",
    "mf_lr_postpr.by_group.plot.bar(\n",
    "    subplots=True,\n",
    "    layout=[3, 3],\n",
    "    legend=False,\n",
    "    figsize=[12, 8],\n",
    "    title=\"Show all metrics\",\n",
    ")"
   ]
  },
  {
   "cell_type": "code",
   "execution_count": 42,
   "metadata": {},
   "outputs": [
    {
     "data": {
      "text/html": [
       "<style>#sk-container-id-3 {color: black;background-color: white;}#sk-container-id-3 pre{padding: 0;}#sk-container-id-3 div.sk-toggleable {background-color: white;}#sk-container-id-3 label.sk-toggleable__label {cursor: pointer;display: block;width: 100%;margin-bottom: 0;padding: 0.3em;box-sizing: border-box;text-align: center;}#sk-container-id-3 label.sk-toggleable__label-arrow:before {content: \"▸\";float: left;margin-right: 0.25em;color: #696969;}#sk-container-id-3 label.sk-toggleable__label-arrow:hover:before {color: black;}#sk-container-id-3 div.sk-estimator:hover label.sk-toggleable__label-arrow:before {color: black;}#sk-container-id-3 div.sk-toggleable__content {max-height: 0;max-width: 0;overflow: hidden;text-align: left;background-color: #f0f8ff;}#sk-container-id-3 div.sk-toggleable__content pre {margin: 0.2em;color: black;border-radius: 0.25em;background-color: #f0f8ff;}#sk-container-id-3 input.sk-toggleable__control:checked~div.sk-toggleable__content {max-height: 200px;max-width: 100%;overflow: auto;}#sk-container-id-3 input.sk-toggleable__control:checked~label.sk-toggleable__label-arrow:before {content: \"▾\";}#sk-container-id-3 div.sk-estimator input.sk-toggleable__control:checked~label.sk-toggleable__label {background-color: #d4ebff;}#sk-container-id-3 div.sk-label input.sk-toggleable__control:checked~label.sk-toggleable__label {background-color: #d4ebff;}#sk-container-id-3 input.sk-hidden--visually {border: 0;clip: rect(1px 1px 1px 1px);clip: rect(1px, 1px, 1px, 1px);height: 1px;margin: -1px;overflow: hidden;padding: 0;position: absolute;width: 1px;}#sk-container-id-3 div.sk-estimator {font-family: monospace;background-color: #f0f8ff;border: 1px dotted black;border-radius: 0.25em;box-sizing: border-box;margin-bottom: 0.5em;}#sk-container-id-3 div.sk-estimator:hover {background-color: #d4ebff;}#sk-container-id-3 div.sk-parallel-item::after {content: \"\";width: 100%;border-bottom: 1px solid gray;flex-grow: 1;}#sk-container-id-3 div.sk-label:hover label.sk-toggleable__label {background-color: #d4ebff;}#sk-container-id-3 div.sk-serial::before {content: \"\";position: absolute;border-left: 1px solid gray;box-sizing: border-box;top: 0;bottom: 0;left: 50%;z-index: 0;}#sk-container-id-3 div.sk-serial {display: flex;flex-direction: column;align-items: center;background-color: white;padding-right: 0.2em;padding-left: 0.2em;position: relative;}#sk-container-id-3 div.sk-item {position: relative;z-index: 1;}#sk-container-id-3 div.sk-parallel {display: flex;align-items: stretch;justify-content: center;background-color: white;position: relative;}#sk-container-id-3 div.sk-item::before, #sk-container-id-3 div.sk-parallel-item::before {content: \"\";position: absolute;border-left: 1px solid gray;box-sizing: border-box;top: 0;bottom: 0;left: 50%;z-index: -1;}#sk-container-id-3 div.sk-parallel-item {display: flex;flex-direction: column;z-index: 1;position: relative;background-color: white;}#sk-container-id-3 div.sk-parallel-item:first-child::after {align-self: flex-end;width: 50%;}#sk-container-id-3 div.sk-parallel-item:last-child::after {align-self: flex-start;width: 50%;}#sk-container-id-3 div.sk-parallel-item:only-child::after {width: 0;}#sk-container-id-3 div.sk-dashed-wrapped {border: 1px dashed gray;margin: 0 0.4em 0.5em 0.4em;box-sizing: border-box;padding-bottom: 0.4em;background-color: white;}#sk-container-id-3 div.sk-label label {font-family: monospace;font-weight: bold;display: inline-block;line-height: 1.2em;}#sk-container-id-3 div.sk-label-container {text-align: center;}#sk-container-id-3 div.sk-container {/* jupyter's `normalize.less` sets `[hidden] { display: none; }` but bootstrap.min.css set `[hidden] { display: none !important; }` so we also need the `!important` here to be able to override the default hidden behavior on the sphinx rendered scikit-learn.org. See: https://github.com/scikit-learn/scikit-learn/issues/21755 */display: inline-block !important;position: relative;}#sk-container-id-3 div.sk-text-repr-fallback {display: none;}</style><div id=\"sk-container-id-3\" class=\"sk-top-container\"><div class=\"sk-text-repr-fallback\"><pre>ThresholdOptimizer(constraints=&#x27;false_negative_rate_parity&#x27;,\n",
       "                   estimator=Pipeline(steps=[(&#x27;preprocess&#x27;,\n",
       "                                              ColumnTransformer(transformers=[(&#x27;categorical&#x27;,\n",
       "                                                                               OneHotEncoder(),\n",
       "                                                                               [&#x27;Sex&#x27;,\n",
       "                                                                                &#x27;Housing&#x27;,\n",
       "                                                                                &#x27;Saving &#x27;\n",
       "                                                                                &#x27;accounts&#x27;,\n",
       "                                                                                &#x27;Checking &#x27;\n",
       "                                                                                &#x27;account&#x27;,\n",
       "                                                                                &#x27;Purpose&#x27;,\n",
       "                                                                                &#x27;Job&#x27;,\n",
       "                                                                                &#x27;Age&#x27;]),\n",
       "                                                                              (&#x27;numerical&#x27;,\n",
       "                                                                               MinMaxScaler(),\n",
       "                                                                               [&#x27;Duration&#x27;,\n",
       "                                                                                &#x27;Credit &#x27;\n",
       "                                                                                &#x27;amount&#x27;])],\n",
       "                                                                verbose_feature_names_out=False)),\n",
       "                                             (&#x27;classifier&#x27;,\n",
       "                                              LogisticRegression(C=0.1,\n",
       "                                                                 random_state=42))]),\n",
       "                   predict_method=&#x27;predict_proba&#x27;, prefit=True)</pre><b>In a Jupyter environment, please rerun this cell to show the HTML representation or trust the notebook. <br />On GitHub, the HTML representation is unable to render, please try loading this page with nbviewer.org.</b></div><div class=\"sk-container\" hidden><div class=\"sk-item sk-dashed-wrapped\"><div class=\"sk-label-container\"><div class=\"sk-label sk-toggleable\"><input class=\"sk-toggleable__control sk-hidden--visually\" id=\"sk-estimator-id-16\" type=\"checkbox\" ><label for=\"sk-estimator-id-16\" class=\"sk-toggleable__label sk-toggleable__label-arrow\">ThresholdOptimizer</label><div class=\"sk-toggleable__content\"><pre>ThresholdOptimizer(constraints=&#x27;false_negative_rate_parity&#x27;,\n",
       "                   estimator=Pipeline(steps=[(&#x27;preprocess&#x27;,\n",
       "                                              ColumnTransformer(transformers=[(&#x27;categorical&#x27;,\n",
       "                                                                               OneHotEncoder(),\n",
       "                                                                               [&#x27;Sex&#x27;,\n",
       "                                                                                &#x27;Housing&#x27;,\n",
       "                                                                                &#x27;Saving &#x27;\n",
       "                                                                                &#x27;accounts&#x27;,\n",
       "                                                                                &#x27;Checking &#x27;\n",
       "                                                                                &#x27;account&#x27;,\n",
       "                                                                                &#x27;Purpose&#x27;,\n",
       "                                                                                &#x27;Job&#x27;,\n",
       "                                                                                &#x27;Age&#x27;]),\n",
       "                                                                              (&#x27;numerical&#x27;,\n",
       "                                                                               MinMaxScaler(),\n",
       "                                                                               [&#x27;Duration&#x27;,\n",
       "                                                                                &#x27;Credit &#x27;\n",
       "                                                                                &#x27;amount&#x27;])],\n",
       "                                                                verbose_feature_names_out=False)),\n",
       "                                             (&#x27;classifier&#x27;,\n",
       "                                              LogisticRegression(C=0.1,\n",
       "                                                                 random_state=42))]),\n",
       "                   predict_method=&#x27;predict_proba&#x27;, prefit=True)</pre></div></div></div><div class=\"sk-parallel\"><div class=\"sk-parallel-item\"><div class=\"sk-item\"><div class=\"sk-label-container\"><div class=\"sk-label sk-toggleable\"><input class=\"sk-toggleable__control sk-hidden--visually\" id=\"sk-estimator-id-17\" type=\"checkbox\" ><label for=\"sk-estimator-id-17\" class=\"sk-toggleable__label sk-toggleable__label-arrow\">estimator: Pipeline</label><div class=\"sk-toggleable__content\"><pre>Pipeline(steps=[(&#x27;preprocess&#x27;,\n",
       "                 ColumnTransformer(transformers=[(&#x27;categorical&#x27;,\n",
       "                                                  OneHotEncoder(),\n",
       "                                                  [&#x27;Sex&#x27;, &#x27;Housing&#x27;,\n",
       "                                                   &#x27;Saving accounts&#x27;,\n",
       "                                                   &#x27;Checking account&#x27;,\n",
       "                                                   &#x27;Purpose&#x27;, &#x27;Job&#x27;, &#x27;Age&#x27;]),\n",
       "                                                 (&#x27;numerical&#x27;, MinMaxScaler(),\n",
       "                                                  [&#x27;Duration&#x27;,\n",
       "                                                   &#x27;Credit amount&#x27;])],\n",
       "                                   verbose_feature_names_out=False)),\n",
       "                (&#x27;classifier&#x27;, LogisticRegression(C=0.1, random_state=42))])</pre></div></div></div><div class=\"sk-serial\"><div class=\"sk-item\"><div class=\"sk-serial\"><div class=\"sk-item sk-dashed-wrapped\"><div class=\"sk-label-container\"><div class=\"sk-label sk-toggleable\"><input class=\"sk-toggleable__control sk-hidden--visually\" id=\"sk-estimator-id-18\" type=\"checkbox\" ><label for=\"sk-estimator-id-18\" class=\"sk-toggleable__label sk-toggleable__label-arrow\">preprocess: ColumnTransformer</label><div class=\"sk-toggleable__content\"><pre>ColumnTransformer(transformers=[(&#x27;categorical&#x27;, OneHotEncoder(),\n",
       "                                 [&#x27;Sex&#x27;, &#x27;Housing&#x27;, &#x27;Saving accounts&#x27;,\n",
       "                                  &#x27;Checking account&#x27;, &#x27;Purpose&#x27;, &#x27;Job&#x27;,\n",
       "                                  &#x27;Age&#x27;]),\n",
       "                                (&#x27;numerical&#x27;, MinMaxScaler(),\n",
       "                                 [&#x27;Duration&#x27;, &#x27;Credit amount&#x27;])],\n",
       "                  verbose_feature_names_out=False)</pre></div></div></div><div class=\"sk-parallel\"><div class=\"sk-parallel-item\"><div class=\"sk-item\"><div class=\"sk-label-container\"><div class=\"sk-label sk-toggleable\"><input class=\"sk-toggleable__control sk-hidden--visually\" id=\"sk-estimator-id-19\" type=\"checkbox\" ><label for=\"sk-estimator-id-19\" class=\"sk-toggleable__label sk-toggleable__label-arrow\">categorical</label><div class=\"sk-toggleable__content\"><pre>[&#x27;Sex&#x27;, &#x27;Housing&#x27;, &#x27;Saving accounts&#x27;, &#x27;Checking account&#x27;, &#x27;Purpose&#x27;, &#x27;Job&#x27;, &#x27;Age&#x27;]</pre></div></div></div><div class=\"sk-serial\"><div class=\"sk-item\"><div class=\"sk-estimator sk-toggleable\"><input class=\"sk-toggleable__control sk-hidden--visually\" id=\"sk-estimator-id-20\" type=\"checkbox\" ><label for=\"sk-estimator-id-20\" class=\"sk-toggleable__label sk-toggleable__label-arrow\">OneHotEncoder</label><div class=\"sk-toggleable__content\"><pre>OneHotEncoder()</pre></div></div></div></div></div></div><div class=\"sk-parallel-item\"><div class=\"sk-item\"><div class=\"sk-label-container\"><div class=\"sk-label sk-toggleable\"><input class=\"sk-toggleable__control sk-hidden--visually\" id=\"sk-estimator-id-21\" type=\"checkbox\" ><label for=\"sk-estimator-id-21\" class=\"sk-toggleable__label sk-toggleable__label-arrow\">numerical</label><div class=\"sk-toggleable__content\"><pre>[&#x27;Duration&#x27;, &#x27;Credit amount&#x27;]</pre></div></div></div><div class=\"sk-serial\"><div class=\"sk-item\"><div class=\"sk-estimator sk-toggleable\"><input class=\"sk-toggleable__control sk-hidden--visually\" id=\"sk-estimator-id-22\" type=\"checkbox\" ><label for=\"sk-estimator-id-22\" class=\"sk-toggleable__label sk-toggleable__label-arrow\">MinMaxScaler</label><div class=\"sk-toggleable__content\"><pre>MinMaxScaler()</pre></div></div></div></div></div></div></div></div><div class=\"sk-item\"><div class=\"sk-estimator sk-toggleable\"><input class=\"sk-toggleable__control sk-hidden--visually\" id=\"sk-estimator-id-23\" type=\"checkbox\" ><label for=\"sk-estimator-id-23\" class=\"sk-toggleable__label sk-toggleable__label-arrow\">LogisticRegression</label><div class=\"sk-toggleable__content\"><pre>LogisticRegression(C=0.1, random_state=42)</pre></div></div></div></div></div></div></div></div></div></div></div></div>"
      ],
      "text/plain": [
       "ThresholdOptimizer(constraints='false_negative_rate_parity',\n",
       "                   estimator=Pipeline(steps=[('preprocess',\n",
       "                                              ColumnTransformer(transformers=[('categorical',\n",
       "                                                                               OneHotEncoder(),\n",
       "                                                                               ['Sex',\n",
       "                                                                                'Housing',\n",
       "                                                                                'Saving '\n",
       "                                                                                'accounts',\n",
       "                                                                                'Checking '\n",
       "                                                                                'account',\n",
       "                                                                                'Purpose',\n",
       "                                                                                'Job',\n",
       "                                                                                'Age']),\n",
       "                                                                              ('numerical',\n",
       "                                                                               MinMaxScaler(),\n",
       "                                                                               ['Duration',\n",
       "                                                                                'Credit '\n",
       "                                                                                'amount'])],\n",
       "                                                                verbose_feature_names_out=False)),\n",
       "                                             ('classifier',\n",
       "                                              LogisticRegression(C=0.1,\n",
       "                                                                 random_state=42))]),\n",
       "                   predict_method='predict_proba', prefit=True)"
      ]
     },
     "execution_count": 42,
     "metadata": {},
     "output_type": "execute_result"
    }
   ],
   "source": [
    "# Postprocessing for equality of opportunity\n",
    "\n",
    "postprocess_eqo = ThresholdOptimizer(estimator=unmitigated_lr, constraints=\"false_negative_rate_parity\", \n",
    "                                     objective=\"accuracy_score\",prefit=True,predict_method='predict_proba')\n",
    "\n",
    "postprocess_eqo.fit(x_train, y_train, sensitive_features = x_train['Age'])\n"
   ]
  },
  {
   "cell_type": "code",
   "execution_count": 43,
   "metadata": {},
   "outputs": [
    {
     "name": "stdout",
     "output_type": "stream",
     "text": [
      "              precision    recall  f1-score   support\n",
      "\n",
      "           0       0.54      0.35      0.42        72\n",
      "           1       0.77      0.88      0.82       178\n",
      "\n",
      "    accuracy                           0.73       250\n",
      "   macro avg       0.66      0.61      0.62       250\n",
      "weighted avg       0.70      0.73      0.71       250\n",
      "\n",
      "\n",
      "[[ 25  47]\n",
      " [ 21 157]]\n"
     ]
    }
   ],
   "source": [
    "predictions_lr_postpr_eqo = postprocess_eqo.predict(x_test, sensitive_features=age)\n",
    "\n",
    "print(skmetrics.classification_report(y_test, predictions_lr_postpr_eqo)) \n",
    "print()\n",
    "conf_matrix = skmetrics.confusion_matrix(y_test, predictions_lr_postpr_eqo)\n",
    "print(conf_matrix)"
   ]
  },
  {
   "cell_type": "code",
   "execution_count": 44,
   "metadata": {},
   "outputs": [
    {
     "name": "stdout",
     "output_type": "stream",
     "text": [
      "Metrics by group: \n"
     ]
    },
    {
     "data": {
      "text/html": [
       "<div>\n",
       "<style scoped>\n",
       "    .dataframe tbody tr th:only-of-type {\n",
       "        vertical-align: middle;\n",
       "    }\n",
       "\n",
       "    .dataframe tbody tr th {\n",
       "        vertical-align: top;\n",
       "    }\n",
       "\n",
       "    .dataframe thead th {\n",
       "        text-align: right;\n",
       "    }\n",
       "</style>\n",
       "<table border=\"1\" class=\"dataframe\">\n",
       "  <thead>\n",
       "    <tr style=\"text-align: right;\">\n",
       "      <th></th>\n",
       "      <th>accuracy</th>\n",
       "      <th>selection rate</th>\n",
       "      <th>mean prediction</th>\n",
       "      <th>false positive rate</th>\n",
       "      <th>false negative rate</th>\n",
       "      <th>count</th>\n",
       "    </tr>\n",
       "    <tr>\n",
       "      <th>Age</th>\n",
       "      <th></th>\n",
       "      <th></th>\n",
       "      <th></th>\n",
       "      <th></th>\n",
       "      <th></th>\n",
       "      <th></th>\n",
       "    </tr>\n",
       "  </thead>\n",
       "  <tbody>\n",
       "    <tr>\n",
       "      <th>0</th>\n",
       "      <td>0.682927</td>\n",
       "      <td>0.780488</td>\n",
       "      <td>0.780488</td>\n",
       "      <td>0.642857</td>\n",
       "      <td>0.148148</td>\n",
       "      <td>41.0</td>\n",
       "    </tr>\n",
       "    <tr>\n",
       "      <th>1</th>\n",
       "      <td>0.736842</td>\n",
       "      <td>0.822967</td>\n",
       "      <td>0.822967</td>\n",
       "      <td>0.655172</td>\n",
       "      <td>0.112583</td>\n",
       "      <td>209.0</td>\n",
       "    </tr>\n",
       "  </tbody>\n",
       "</table>\n",
       "</div>"
      ],
      "text/plain": [
       "     accuracy  selection rate  mean prediction  false positive rate  \\\n",
       "Age                                                                   \n",
       "0    0.682927        0.780488         0.780488             0.642857   \n",
       "1    0.736842        0.822967         0.822967             0.655172   \n",
       "\n",
       "     false negative rate  count  \n",
       "Age                              \n",
       "0               0.148148   41.0  \n",
       "1               0.112583  209.0  "
      ]
     },
     "execution_count": 44,
     "metadata": {},
     "output_type": "execute_result"
    }
   ],
   "source": [
    "# Show metrics by group after mitigation\n",
    "mf_lr_postpr_eqo = MetricFrame(\n",
    "    metrics=metrics,\n",
    "    y_true=y_test,\n",
    "    y_pred=predictions_lr_postpr_eqo,\n",
    "    sensitive_features=age)\n",
    "\n",
    "print(\"Metrics by group: \") \n",
    "mf_lr_postpr_eqo.by_group"
   ]
  },
  {
   "cell_type": "code",
   "execution_count": 45,
   "metadata": {},
   "outputs": [
    {
     "data": {
      "text/plain": [
       "array([[<AxesSubplot:title={'center':'accuracy'}, xlabel='Age'>,\n",
       "        <AxesSubplot:title={'center':'selection rate'}, xlabel='Age'>,\n",
       "        <AxesSubplot:title={'center':'mean prediction'}, xlabel='Age'>],\n",
       "       [<AxesSubplot:title={'center':'false positive rate'}, xlabel='Age'>,\n",
       "        <AxesSubplot:title={'center':'false negative rate'}, xlabel='Age'>,\n",
       "        <AxesSubplot:title={'center':'count'}, xlabel='Age'>],\n",
       "       [<AxesSubplot:xlabel='Age'>, <AxesSubplot:xlabel='Age'>,\n",
       "        <AxesSubplot:xlabel='Age'>]], dtype=object)"
      ]
     },
     "execution_count": 45,
     "metadata": {},
     "output_type": "execute_result"
    },
    {
     "data": {
      "image/png": "[encoded data removed]",
      "text/plain": [
       "<Figure size 864x576 with 9 Axes>"
      ]
     },
     "metadata": {
      "needs_background": "light"
     },
     "output_type": "display_data"
    }
   ],
   "source": [
    "# Plot metrics by group after mitigation \n",
    "mf_lr_postpr_eqo.by_group.plot.bar(\n",
    "    subplots=True,\n",
    "    layout=[3, 3],\n",
    "    legend=False,\n",
    "    figsize=[12, 8],\n",
    "    title=\"Show all metrics\",\n",
    ")"
   ]
  },
  {
   "cell_type": "markdown",
   "metadata": {},
   "source": [
    "### "
   ]
  }
 ],
 "metadata": {
  "kernelspec": {
   "display_name": "Python 3",
   "language": "python",
   "name": "python3"
  },
  "language_info": {
   "codemirror_mode": {
    "name": "ipython",
    "version": 3
   },
   "file_extension": ".py",
   "mimetype": "text/x-python",
   "name": "python",
   "nbconvert_exporter": "python",
   "pygments_lexer": "ipython3",
   "version": "3.8.5"
  }
 },
 "nbformat": 4,
 "nbformat_minor": 4
}
